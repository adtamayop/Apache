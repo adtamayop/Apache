{
  "nbformat": 4,
  "nbformat_minor": 0,
  "metadata": {
    "colab": {
      "name": "02-RDD-operations.ipynb",
      "version": "0.3.2",
      "provenance": []
    },
    "kernelspec": {
      "display_name": "Python 3",
      "language": "python",
      "name": "python3"
    }
  },
  "cells": [
    {
      "metadata": {
        "id": "lq80NvmIuz9L",
        "colab_type": "text"
      },
      "cell_type": "markdown",
      "source": [
        "Operaciones RDD\n",
        "==="
      ]
    },
    {
      "metadata": {
        "id": "3ZXewDt-uz9L",
        "colab_type": "code",
        "colab": {}
      },
      "cell_type": "code",
      "source": [
        "import findspark\n",
        "findspark.init()"
      ],
      "execution_count": 0,
      "outputs": []
    },
    {
      "metadata": {
        "id": "B6R0oHOVuz9P",
        "colab_type": "code",
        "colab": {}
      },
      "cell_type": "code",
      "source": [
        "from pyspark import SparkConf, SparkContext\n",
        "\n",
        "APP_NAME = \"My Spark Application\"\n",
        "conf = SparkConf().setAppName(APP_NAME) \n",
        "conf = conf.setMaster(\"local[*]\")\n",
        "sc = SparkContext(conf=conf)"
      ],
      "execution_count": 0,
      "outputs": []
    },
    {
      "metadata": {
        "id": "ui2zcEXluz9Y",
        "colab_type": "code",
        "colab": {}
      },
      "cell_type": "code",
      "source": [
        "from pyspark.sql import SparkSession\n",
        "spark = SparkSession.builder.appName(APP_NAME).getOrCreate() "
      ],
      "execution_count": 0,
      "outputs": []
    },
    {
      "metadata": {
        "id": "ebZlspvYuz9c",
        "colab_type": "text"
      },
      "cell_type": "markdown",
      "source": [
        "---"
      ]
    },
    {
      "metadata": {
        "id": "l_o02X7Suz9c",
        "colab_type": "text"
      },
      "cell_type": "markdown",
      "source": [
        "## Lectura de archivos"
      ]
    },
    {
      "metadata": {
        "id": "3XdW1fs5uz9d",
        "colab_type": "text"
      },
      "cell_type": "markdown",
      "source": [
        "### Desde variables"
      ]
    },
    {
      "metadata": {
        "id": "tL0rq28ruz9f",
        "colab_type": "code",
        "colab": {},
        "outputId": "431005cc-8235-4732-a8d7-4a55c08ab75a"
      },
      "cell_type": "code",
      "source": [
        "rdd = sc.parallelize([1, 2, 3, 4, 5])\n",
        "rdd"
      ],
      "execution_count": 0,
      "outputs": [
        {
          "output_type": "execute_result",
          "data": {
            "text/plain": [
              "ParallelCollectionRDD[0] at parallelize at PythonRDD.scala:194"
            ]
          },
          "metadata": {
            "tags": []
          },
          "execution_count": 4
        }
      ]
    },
    {
      "metadata": {
        "id": "7mt1-E7Buz9i",
        "colab_type": "code",
        "colab": {},
        "outputId": "1f76df3f-491c-47c0-c4d7-396be2680390"
      },
      "cell_type": "code",
      "source": [
        "## Retorna una lista que contiene todos los \n",
        "## elementos en un RDD\n",
        "rdd.collect()"
      ],
      "execution_count": 0,
      "outputs": [
        {
          "output_type": "execute_result",
          "data": {
            "text/plain": [
              "[1, 2, 3, 4, 5]"
            ]
          },
          "metadata": {
            "tags": []
          },
          "execution_count": 5
        }
      ]
    },
    {
      "metadata": {
        "id": "4zCavCNkuz9l",
        "colab_type": "code",
        "colab": {},
        "outputId": "9cd995dc-4bbe-48bd-dbf3-9a85d03da5e0"
      },
      "cell_type": "code",
      "source": [
        "rdd = sc.parallelize({\"a\":1, \"b\":2, \"c\":3, \"d\":4})\n",
        "rdd.collect()"
      ],
      "execution_count": 0,
      "outputs": [
        {
          "output_type": "execute_result",
          "data": {
            "text/plain": [
              "['a', 'b', 'c', 'd']"
            ]
          },
          "metadata": {
            "tags": []
          },
          "execution_count": 6
        }
      ]
    },
    {
      "metadata": {
        "id": "y4YT3Vbfuz9r",
        "colab_type": "text"
      },
      "cell_type": "markdown",
      "source": [
        "### textFile"
      ]
    },
    {
      "metadata": {
        "id": "vhisUuGxuz9s",
        "colab_type": "code",
        "colab": {},
        "outputId": "ee9ccbb8-5918-4b5a-ce73-ff4a212f57e5"
      },
      "cell_type": "code",
      "source": [
        "rdd = sc.textFile(\"files/wordcount/\")\n",
        "rdd"
      ],
      "execution_count": 0,
      "outputs": [
        {
          "output_type": "execute_result",
          "data": {
            "text/plain": [
              "files/wordcount/ MapPartitionsRDD[3] at textFile at NativeMethodAccessorImpl.java:0"
            ]
          },
          "metadata": {
            "tags": []
          },
          "execution_count": 7
        }
      ]
    },
    {
      "metadata": {
        "id": "B1gqTYMluz9w",
        "colab_type": "code",
        "colab": {},
        "outputId": "8aa2b545-b570-42ad-8903-45093b048ae4"
      },
      "cell_type": "code",
      "source": [
        "type(rdd)"
      ],
      "execution_count": 0,
      "outputs": [
        {
          "output_type": "execute_result",
          "data": {
            "text/plain": [
              "pyspark.rdd.RDD"
            ]
          },
          "metadata": {
            "tags": []
          },
          "execution_count": 8
        }
      ]
    },
    {
      "metadata": {
        "id": "ALIyA441uz93",
        "colab_type": "code",
        "colab": {},
        "outputId": "084f6878-8ee2-4100-fd85-8d8966ee6228"
      },
      "cell_type": "code",
      "source": [
        "rdd.collect()"
      ],
      "execution_count": 0,
      "outputs": [
        {
          "output_type": "execute_result",
          "data": {
            "text/plain": [
              "['Analytics is the discovery, interpretation, and communication of meaningful patterns ',\n",
              " 'in data. Especially valuable in areas rich with recorded information, analytics relies ',\n",
              " 'on the simultaneous application of statistics, computer programming and operations research ',\n",
              " 'to quantify performance.',\n",
              " '',\n",
              " 'Organizations may apply analytics to business data to describe, predict, and improve business ',\n",
              " 'performance. Specifically, areas within analytics include predictive analytics, prescriptive ',\n",
              " 'analytics, enterprise decision management, descriptive analytics, cognitive analytics, Big ',\n",
              " 'Data Analytics, retail analytics, store assortment and stock-keeping unit optimization, ',\n",
              " 'marketing optimization and marketing mix modeling, web analytics, call analytics, speech ',\n",
              " 'analytics, sales force sizing and optimization, price and promotion modeling, predictive ',\n",
              " 'science, credit risk analysis, and fraud analytics. Since analytics can require extensive ',\n",
              " 'computation (see big data), the algorithms and software used for analytics harness the most ',\n",
              " 'current methods in computer science, statistics, and mathematics.',\n",
              " 'The field of data analysis. Analytics often involves studying past historical data to ',\n",
              " 'research potential trends, to analyze the effects of certain decisions or events, or to ',\n",
              " 'evaluate the performance of a given tool or scenario. The goal of analytics is to improve ',\n",
              " 'the business by gaining knowledge which can be used to make improvements or changes.',\n",
              " 'Data analytics (DA) is the process of examining data sets in order to draw conclusions ',\n",
              " 'about the information they contain, increasingly with the aid of specialized systems ',\n",
              " 'and software. Data analytics technologies and techniques are widely used in commercial ',\n",
              " 'industries to enable organizations to make more-informed business decisions and by ',\n",
              " 'scientists and researchers to verify or disprove scientific models, theories and ',\n",
              " 'hypotheses.']"
            ]
          },
          "metadata": {
            "tags": []
          },
          "execution_count": 9
        }
      ]
    },
    {
      "metadata": {
        "id": "lV7DAH4vuz96",
        "colab_type": "code",
        "colab": {},
        "outputId": "62aedebe-3777-4e89-d2bc-70515a56728d"
      },
      "cell_type": "code",
      "source": [
        "rdd = sc.wholeTextFiles(\"files/wordcount/\")\n",
        "for row in rdd.collect():\n",
        "    print(row)\n",
        "    print('----')"
      ],
      "execution_count": 0,
      "outputs": [
        {
          "output_type": "stream",
          "text": [
            "('file:/Volumes/Data/GitHub/Analitica-de-grandes-datos/AGD-05-Spark/files/wordcount/text0.txt', 'Analytics is the discovery, interpretation, and communication of meaningful patterns \\nin data. Especially valuable in areas rich with recorded information, analytics relies \\non the simultaneous application of statistics, computer programming and operations research \\nto quantify performance.\\n\\nOrganizations may apply analytics to business data to describe, predict, and improve business \\nperformance. Specifically, areas within analytics include predictive analytics, prescriptive \\nanalytics, enterprise decision management, descriptive analytics, cognitive analytics, Big \\nData Analytics, retail analytics, store assortment and stock-keeping unit optimization, \\nmarketing optimization and marketing mix modeling, web analytics, call analytics, speech \\nanalytics, sales force sizing and optimization, price and promotion modeling, predictive \\nscience, credit risk analysis, and fraud analytics. Since analytics can require extensive \\ncomputation (see big data), the algorithms and software used for analytics harness the most \\ncurrent methods in computer science, statistics, and mathematics.')\n",
            "----\n",
            "('file:/Volumes/Data/GitHub/Analitica-de-grandes-datos/AGD-05-Spark/files/wordcount/text1.txt', 'The field of data analysis. Analytics often involves studying past historical data to \\nresearch potential trends, to analyze the effects of certain decisions or events, or to \\nevaluate the performance of a given tool or scenario. The goal of analytics is to improve \\nthe business by gaining knowledge which can be used to make improvements or changes.')\n",
            "----\n",
            "('file:/Volumes/Data/GitHub/Analitica-de-grandes-datos/AGD-05-Spark/files/wordcount/text2.txt', 'Data analytics (DA) is the process of examining data sets in order to draw conclusions \\nabout the information they contain, increasingly with the aid of specialized systems \\nand software. Data analytics technologies and techniques are widely used in commercial \\nindustries to enable organizations to make more-informed business decisions and by \\nscientists and researchers to verify or disprove scientific models, theories and \\nhypotheses.')\n",
            "----\n"
          ],
          "name": "stdout"
        }
      ]
    },
    {
      "metadata": {
        "id": "P0V5ZIFjuz9-",
        "colab_type": "text"
      },
      "cell_type": "markdown",
      "source": [
        "## Operaciones RDD\n",
        "\n",
        "Ver http://spark.apache.org/docs/latest/api/python/pyspark.sql.html#pyspark.sql.DataFrame"
      ]
    },
    {
      "metadata": {
        "id": "WCsYylSTuz9_",
        "colab_type": "text"
      },
      "cell_type": "markdown",
      "source": [
        "En este ejemplo se computa la cantidad de caracteres leídos de un grupo de archivos."
      ]
    },
    {
      "metadata": {
        "id": "eEvu_Ru2uz-C",
        "colab_type": "code",
        "colab": {},
        "outputId": "4f596d71-c0fa-4a94-cc17-8db47207ecb6"
      },
      "cell_type": "code",
      "source": [
        "## carga el archivo\n",
        "rdd = sc.textFile(\"files/wordcount/\")\n",
        "\n",
        "## calcula la longitud de cada linea\n",
        "rdd = rdd.map(lambda x: len(x))\n",
        "print(rdd.collect())\n",
        "\n",
        "## calcula el total de caracteres\n",
        "rdd = rdd.reduce(lambda a, b: a+b)\n",
        "rdd"
      ],
      "execution_count": 0,
      "outputs": [
        {
          "output_type": "stream",
          "text": [
            "[85, 87, 92, 24, 0, 94, 93, 91, 88, 89, 89, 90, 92, 65, 86, 88, 90, 84, 87, 85, 87, 83, 81, 11]\n"
          ],
          "name": "stdout"
        },
        {
          "output_type": "execute_result",
          "data": {
            "text/plain": [
              "1861"
            ]
          },
          "metadata": {
            "tags": []
          },
          "execution_count": 11
        }
      ]
    },
    {
      "metadata": {
        "id": "ux8JdSHQuz-H",
        "colab_type": "code",
        "colab": {},
        "outputId": "f341c28f-0241-451a-9484-39cd8fd74690"
      },
      "cell_type": "code",
      "source": [
        "## en este ejemplo se pasa una función arbitraria a `map`\n",
        "from operator import add\n",
        "rdd = sc.textFile(\"files/wordcount/\")\n",
        "rdd = rdd.map(len)\n",
        "print(rdd.collect())\n",
        "rdd = rdd.reduce(add)\n",
        "rdd"
      ],
      "execution_count": 0,
      "outputs": [
        {
          "output_type": "stream",
          "text": [
            "[85, 87, 92, 24, 0, 94, 93, 91, 88, 89, 89, 90, 92, 65, 86, 88, 90, 84, 87, 85, 87, 83, 81, 11]\n"
          ],
          "name": "stdout"
        },
        {
          "output_type": "execute_result",
          "data": {
            "text/plain": [
              "1861"
            ]
          },
          "metadata": {
            "tags": []
          },
          "execution_count": 13
        }
      ]
    },
    {
      "metadata": {
        "id": "LmRjQvuQuz-K",
        "colab_type": "text"
      },
      "cell_type": "markdown",
      "source": [
        "### Pares (Key, Value) "
      ]
    },
    {
      "metadata": {
        "id": "p8jFLAyAuz-L",
        "colab_type": "code",
        "colab": {},
        "outputId": "da01edd8-c282-4acd-80c7-fe7f3ecccb14"
      },
      "cell_type": "code",
      "source": [
        "##\n",
        "## creación de parejas (key, value)\n",
        "##\n",
        "rdd = sc.parallelize([\"a\", \"b\", \"a\", \"c\", \"d\", \"a\", \"b\"])\n",
        "rdd = rdd.map(lambda s: (s, 1))\n",
        "print(rdd.collect())\n",
        "rdd = rdd.reduceByKey(lambda a, b: a + b)\n",
        "print(rdd.collect())"
      ],
      "execution_count": 0,
      "outputs": [
        {
          "output_type": "stream",
          "text": [
            "[('a', 1), ('b', 1), ('a', 1), ('c', 1), ('d', 1), ('a', 1), ('b', 1)]\n",
            "[('a', 3), ('b', 2), ('c', 1), ('d', 1)]\n"
          ],
          "name": "stdout"
        }
      ]
    },
    {
      "metadata": {
        "id": "Nf7kddl1uz-P",
        "colab_type": "text"
      },
      "cell_type": "markdown",
      "source": [
        "---"
      ]
    }
  ]
}