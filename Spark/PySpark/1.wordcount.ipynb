{
  "nbformat": 4,
  "nbformat_minor": 0,
  "metadata": {
    "colab": {
      "name": "01-wordcount.ipynb",
      "version": "0.3.2",
      "provenance": []
    },
    "kernelspec": {
      "display_name": "Python 3",
      "language": "python",
      "name": "python3"
    }
  },
  "cells": [
    {
      "metadata": {
        "id": "W_DFn6OFuz5s",
        "colab_type": "text"
      },
      "cell_type": "markdown",
      "source": [
        "Spark - WordCount\n",
        "===\n"
      ]
    },
    {
      "metadata": {
        "id": "UP7h0P2Luz5v",
        "colab_type": "text"
      },
      "cell_type": "markdown",
      "source": [
        "## Definición del problema\n",
        "\n",
        "Se desea contar la frecuencia de palabras para un alto volumen de textos. Pruebe el algoritmo con el texto presentado en la siguiente celda."
      ]
    },
    {
      "metadata": {
        "id": "T0ipM475uz5v",
        "colab_type": "text"
      },
      "cell_type": "markdown",
      "source": [
        "## Solución"
      ]
    },
    {
      "metadata": {
        "id": "DvxTRIDBuz5w",
        "colab_type": "text"
      },
      "cell_type": "markdown",
      "source": [
        "En este caso, la solución será realizada usando Spark.\n",
        "\n"
      ]
    },
    {
      "metadata": {
        "scrolled": false,
        "id": "-h-JrSDSuz5x",
        "colab_type": "code",
        "colab": {}
      },
      "cell_type": "code",
      "source": [
        "import findspark\n",
        "findspark.init()\n",
        "\n",
        "from pyspark import SparkConf, SparkContext\n",
        "\n",
        "from operator import add\n",
        "\n",
        "\n",
        "APP_NAME = \"My Spark Application\"\n",
        "\n",
        "def tokenize(text):\n",
        "    return text.split()\n",
        "\n",
        "def main(sc): \n",
        "    ## carga los archivos\n",
        "    text = sc.textFile(\"files/wordcount/*.txt\")\n",
        "    \n",
        "    ## separa por palabras (split)\n",
        "    ## con una palabra por registro\n",
        "    words = text.flatMap(tokenize)\n",
        "    \n",
        "    ## genera el par (word, 1)\n",
        "    wc = words.map(lambda x: (x,1))\n",
        "    \n",
        "    ## suma los valores para la misma clave\n",
        "    counts = wc.reduceByKey(add)\n",
        "    \n",
        "    ## escribe los resultados al directorio `output`\n",
        "    counts.saveAsTextFile(\"output\")\n",
        "\n",
        "if __name__ == \"__main__\":\n",
        "    # Configure Spark\n",
        "    conf = SparkConf().setAppName(APP_NAME) \n",
        "    conf = conf.setMaster(\"local[*]\")\n",
        "    sc =SparkContext(conf=conf)\n",
        "    \n",
        "    # Execute main functionality\n",
        "    main(sc)"
      ],
      "execution_count": 0,
      "outputs": []
    },
    {
      "metadata": {
        "id": "SIPUnLKeuz52",
        "colab_type": "code",
        "colab": {},
        "outputId": "3348a24e-bd9c-4dcc-e855-8b8ae6b5adb1"
      },
      "cell_type": "code",
      "source": [
        "## archivos con los resultados\n",
        "!ls output/ "
      ],
      "execution_count": 0,
      "outputs": [
        {
          "output_type": "stream",
          "text": [
            "_SUCCESS   part-00000 part-00001 part-00002 part-00003\n"
          ],
          "name": "stdout"
        }
      ]
    },
    {
      "metadata": {
        "scrolled": false,
        "id": "eACmfYo5uz58",
        "colab_type": "code",
        "colab": {},
        "outputId": "89fd81d2-decb-4a48-d6ad-eed6004441e9"
      },
      "cell_type": "code",
      "source": [
        "## Contenido de los archivos\n",
        "!head output/part-00000"
      ],
      "execution_count": 0,
      "outputs": [
        {
          "output_type": "stream",
          "text": [
            "('interpretation,', 1)\n",
            "('of', 8)\n",
            "('in', 5)\n",
            "('data.', 1)\n",
            "('Especially', 1)\n",
            "('analytics', 8)\n",
            "('simultaneous', 1)\n",
            "('operations', 1)\n",
            "('research', 2)\n",
            "('quantify', 1)\n"
          ],
          "name": "stdout"
        }
      ]
    },
    {
      "metadata": {
        "id": "wsOG9nvjuz6A",
        "colab_type": "code",
        "colab": {},
        "outputId": "ce68fcba-b5de-41c7-af81-8c954178e392"
      },
      "cell_type": "code",
      "source": [
        "!head output/part-00001"
      ],
      "execution_count": 0,
      "outputs": [
        {
          "output_type": "stream",
          "text": [
            "('the', 10)\n",
            "('discovery,', 1)\n",
            "('and', 15)\n",
            "('communication', 1)\n",
            "('meaningful', 1)\n",
            "('valuable', 1)\n",
            "('rich', 1)\n",
            "('recorded', 1)\n",
            "('information,', 1)\n",
            "('relies', 1)\n"
          ],
          "name": "stdout"
        }
      ]
    },
    {
      "metadata": {
        "id": "lQ9T1Zfvuz6F",
        "colab_type": "code",
        "colab": {},
        "outputId": "88d61aa0-346a-4edc-b74f-827f9b8b0a02"
      },
      "cell_type": "code",
      "source": [
        "!head output/part-00002"
      ],
      "execution_count": 0,
      "outputs": [
        {
          "output_type": "stream",
          "text": [
            "('Analytics', 2)\n",
            "('is', 3)\n",
            "('areas', 2)\n",
            "('statistics,', 2)\n",
            "('programming', 1)\n",
            "('improve', 2)\n",
            "('predictive', 2)\n",
            "('analytics,', 8)\n",
            "('enterprise', 1)\n",
            "('stock-keeping', 1)\n"
          ],
          "name": "stdout"
        }
      ]
    },
    {
      "metadata": {
        "id": "NM888j20uz6L",
        "colab_type": "code",
        "colab": {},
        "outputId": "3cda1b93-788a-44fd-ac8f-62772988f2e0"
      },
      "cell_type": "code",
      "source": [
        "!head output/part-00003"
      ],
      "execution_count": 0,
      "outputs": [
        {
          "output_type": "stream",
          "text": [
            "('patterns', 1)\n",
            "('with', 2)\n",
            "('on', 1)\n",
            "('application', 1)\n",
            "('computer', 2)\n",
            "('performance.', 2)\n",
            "('data', 4)\n",
            "('within', 1)\n",
            "('prescriptive', 1)\n",
            "('cognitive', 1)\n"
          ],
          "name": "stdout"
        }
      ]
    },
    {
      "metadata": {
        "id": "9Gnyg10tuz6T",
        "colab_type": "text"
      },
      "cell_type": "markdown",
      "source": [
        "---"
      ]
    },
    {
      "metadata": {
        "id": "BgVPP705uz6T",
        "colab_type": "code",
        "colab": {}
      },
      "cell_type": "code",
      "source": [
        "!rm -rf output"
      ],
      "execution_count": 0,
      "outputs": []
    }
  ]
}