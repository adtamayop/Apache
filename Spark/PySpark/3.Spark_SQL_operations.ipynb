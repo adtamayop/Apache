{
  "nbformat": 4,
  "nbformat_minor": 0,
  "metadata": {
    "colab": {
      "name": "07-Spark-SQL-operations.ipynb",
      "version": "0.3.2",
      "provenance": []
    },
    "kernelspec": {
      "display_name": "Python 3",
      "language": "python",
      "name": "python3"
    }
  },
  "cells": [
    {
      "metadata": {
        "id": "6rTRHH-Wt1i0",
        "colab_type": "text"
      },
      "cell_type": "markdown",
      "source": [
        "Operaciones SQL\n",
        "==="
      ]
    },
    {
      "metadata": {
        "id": "HN3Rv3UIt1i2",
        "colab_type": "code",
        "colab": {}
      },
      "cell_type": "code",
      "source": [
        "import findspark\n",
        "findspark.init()"
      ],
      "execution_count": 0,
      "outputs": []
    },
    {
      "metadata": {
        "id": "sy2RjoHJt1i6",
        "colab_type": "code",
        "colab": {}
      },
      "cell_type": "code",
      "source": [
        "from pyspark.sql import SparkSession\n",
        "\n",
        "spark = SparkSession \\\n",
        "    .builder \\\n",
        "    .appName(\"Python Spark SQL Operations\") \\\n",
        "    .getOrCreate()"
      ],
      "execution_count": 0,
      "outputs": []
    },
    {
      "metadata": {
        "id": "eBkVTJ0Et1i8",
        "colab_type": "text"
      },
      "cell_type": "markdown",
      "source": [
        "---"
      ]
    },
    {
      "metadata": {
        "id": "EnxKEwBht1i8",
        "colab_type": "text"
      },
      "cell_type": "markdown",
      "source": [
        "## Creación de DataFrames"
      ]
    },
    {
      "metadata": {
        "id": "k2332sR6t1i9",
        "colab_type": "text"
      },
      "cell_type": "markdown",
      "source": [
        "### JSON"
      ]
    },
    {
      "metadata": {
        "id": "aD2ziUNMt1i_",
        "colab_type": "code",
        "colab": {},
        "outputId": "324a777d-62c1-4f3a-bb1a-43c5808a5b01"
      },
      "cell_type": "code",
      "source": [
        "%%writefile people.json\n",
        "{\"id\": 1,  \"firstname\": \"Vivian\",   \"surname\": \"Hamilton\", \"birthdate\": \"1971-07-08\",  \"color\": \"green\",  \"quantity\": 1 }\n",
        "{\"id\": 2,  \"firstname\": \"Karen\",    \"surname\": \"Holcomb\",  \"birthdate\": \"1974-05-23\",  \"color\": \"green\",  \"quantity\": 4 }\n",
        "{\"id\": 3,  \"firstname\": \"Cody\",     \"surname\": \"Garrett\",  \"birthdate\": \"1973-04-22\",  \"color\": \"orange\", \"quantity\": 1 }\n",
        "{\"id\": 4,  \"firstname\": \"Roth\",     \"surname\": \"Fry\",      \"birthdate\": \"1975-01-29\",  \"color\": \"black\",  \"quantity\": 1 }\n",
        "{\"id\": 5,  \"firstname\": \"Zoe\",      \"surname\": \"Conway\",   \"birthdate\": \"1974-07-03\",  \"color\": \"blue\",   \"quantity\": 2 }\n",
        "{\"id\": 6,  \"firstname\": \"Gretchen\", \"surname\": \"Kinney\",   \"birthdate\": \"1974-10-18\",  \"color\": \"violet\", \"quantity\": 1 }\n",
        "{\"id\": 7,  \"firstname\": \"Driscoll\", \"surname\": \"Klein\",    \"birthdate\": \"1970-10-05\",  \"color\": \"blue\",   \"quantity\": 5 }\n",
        "{\"id\": 8,  \"firstname\": \"Karyn\",    \"surname\": \"Diaz\",     \"birthdate\": \"1969-02-24\",  \"color\": \"red\",    \"quantity\": 1 }\n",
        "{\"id\": 9,  \"firstname\": \"Merritt\",  \"surname\": \"Guy\",      \"birthdate\": \"1974-10-17\",  \"color\": \"indigo\", \"quantity\": 4 }\n",
        "{\"id\": 10, \"firstname\": \"Kylan\",    \"surname\": \"Sexton\",   \"birthdate\": \"1975-02-28\",  \"color\": \"black\",  \"quantity\": 4 }\n",
        "{\"id\": 11, \"firstname\": \"Jordan\",   \"surname\": \"Estes\",    \"birthdate\": \"1969-12-07\",  \"color\": \"indigo\", \"quantity\": 4 }\n",
        "{\"id\": 12, \"firstname\": \"Hope\",     \"surname\": \"Coffey\",   \"birthdate\": \"1973-12-24\",  \"color\": \"green\",  \"quantity\": 5 }\n",
        "{\"id\": 13, \"firstname\": \"Vivian\",   \"surname\": \"Crane\",    \"birthdate\": \"1970-08-27\",  \"color\": \"gray\",   \"quantity\": 5 }\n",
        "{\"id\": 14, \"firstname\": \"Clio\",     \"surname\": \"Noel\",     \"birthdate\": \"1972-12-12\",  \"color\": \"red\",    \"quantity\": 5 }\n",
        "{\"id\": 15, \"firstname\": \"Hope\",     \"surname\": \"Silva\",    \"birthdate\": \"1970-07-01\",  \"color\": \"blue\",   \"quantity\": 5 }\n",
        "{\"id\": 16, \"firstname\": \"Ayanna\",   \"surname\": \"Jarvis\",   \"birthdate\": \"1974-02-11\",  \"color\": \"orange\", \"quantity\": 5 }\n",
        "{\"id\": 17, \"firstname\": \"Chanda\",   \"surname\": \"Boyer\",    \"birthdate\": \"1973-04-01\",  \"color\": \"green\",  \"quantity\": 4 }\n",
        "{\"id\": 18, \"firstname\": \"Chadwick\", \"surname\": \"Knight\",   \"birthdate\": \"1973-04-29\",  \"color\": \"yellow\", \"quantity\": 1 }"
      ],
      "execution_count": 0,
      "outputs": [
        {
          "output_type": "stream",
          "text": [
            "Overwriting people.json\n"
          ],
          "name": "stdout"
        }
      ]
    },
    {
      "metadata": {
        "id": "1zB-yBDGt1jC",
        "colab_type": "code",
        "colab": {},
        "outputId": "8b174685-b5a6-4780-fe37-3fb67e17be50"
      },
      "cell_type": "code",
      "source": [
        "## Formato JSON -- forma 1\n",
        "df = spark.read.json(\"people.json\")\n",
        "df.show()"
      ],
      "execution_count": 0,
      "outputs": [
        {
          "output_type": "stream",
          "text": [
            "+----------+------+---------+---+--------+--------+\n",
            "| birthdate| color|firstname| id|quantity| surname|\n",
            "+----------+------+---------+---+--------+--------+\n",
            "|1971-07-08| green|   Vivian|  1|       1|Hamilton|\n",
            "|1974-05-23| green|    Karen|  2|       4| Holcomb|\n",
            "|1973-04-22|orange|     Cody|  3|       1| Garrett|\n",
            "|1975-01-29| black|     Roth|  4|       1|     Fry|\n",
            "|1974-07-03|  blue|      Zoe|  5|       2|  Conway|\n",
            "|1974-10-18|violet| Gretchen|  6|       1|  Kinney|\n",
            "|1970-10-05|  blue| Driscoll|  7|       5|   Klein|\n",
            "|1969-02-24|   red|    Karyn|  8|       1|    Diaz|\n",
            "|1974-10-17|indigo|  Merritt|  9|       4|     Guy|\n",
            "|1975-02-28| black|    Kylan| 10|       4|  Sexton|\n",
            "|1969-12-07|indigo|   Jordan| 11|       4|   Estes|\n",
            "|1973-12-24| green|     Hope| 12|       5|  Coffey|\n",
            "|1970-08-27|  gray|   Vivian| 13|       5|   Crane|\n",
            "|1972-12-12|   red|     Clio| 14|       5|    Noel|\n",
            "|1970-07-01|  blue|     Hope| 15|       5|   Silva|\n",
            "|1974-02-11|orange|   Ayanna| 16|       5|  Jarvis|\n",
            "|1973-04-01| green|   Chanda| 17|       4|   Boyer|\n",
            "|1973-04-29|yellow| Chadwick| 18|       1|  Knight|\n",
            "+----------+------+---------+---+--------+--------+\n",
            "\n"
          ],
          "name": "stdout"
        }
      ]
    },
    {
      "metadata": {
        "id": "abPpE0v9t1jH",
        "colab_type": "code",
        "colab": {},
        "outputId": "f36916a1-89b4-40c2-9570-363f49ca0c81"
      },
      "cell_type": "code",
      "source": [
        "## Formato JSON -- forma 2\n",
        "df = spark.read.load(\"people.json\", format=\"json\")\n",
        "df.show()"
      ],
      "execution_count": 0,
      "outputs": [
        {
          "output_type": "stream",
          "text": [
            "+----------+------+---------+---+--------+--------+\n",
            "| birthdate| color|firstname| id|quantity| surname|\n",
            "+----------+------+---------+---+--------+--------+\n",
            "|1971-07-08| green|   Vivian|  1|       1|Hamilton|\n",
            "|1974-05-23| green|    Karen|  2|       4| Holcomb|\n",
            "|1973-04-22|orange|     Cody|  3|       1| Garrett|\n",
            "|1975-01-29| black|     Roth|  4|       1|     Fry|\n",
            "|1974-07-03|  blue|      Zoe|  5|       2|  Conway|\n",
            "|1974-10-18|violet| Gretchen|  6|       1|  Kinney|\n",
            "|1970-10-05|  blue| Driscoll|  7|       5|   Klein|\n",
            "|1969-02-24|   red|    Karyn|  8|       1|    Diaz|\n",
            "|1974-10-17|indigo|  Merritt|  9|       4|     Guy|\n",
            "|1975-02-28| black|    Kylan| 10|       4|  Sexton|\n",
            "|1969-12-07|indigo|   Jordan| 11|       4|   Estes|\n",
            "|1973-12-24| green|     Hope| 12|       5|  Coffey|\n",
            "|1970-08-27|  gray|   Vivian| 13|       5|   Crane|\n",
            "|1972-12-12|   red|     Clio| 14|       5|    Noel|\n",
            "|1970-07-01|  blue|     Hope| 15|       5|   Silva|\n",
            "|1974-02-11|orange|   Ayanna| 16|       5|  Jarvis|\n",
            "|1973-04-01| green|   Chanda| 17|       4|   Boyer|\n",
            "|1973-04-29|yellow| Chadwick| 18|       1|  Knight|\n",
            "+----------+------+---------+---+--------+--------+\n",
            "\n"
          ],
          "name": "stdout"
        }
      ]
    },
    {
      "metadata": {
        "id": "YE77EH6Ft1jJ",
        "colab_type": "text"
      },
      "cell_type": "markdown",
      "source": [
        "### CSV y TXT"
      ]
    },
    {
      "metadata": {
        "id": "_DmSdRRWt1jK",
        "colab_type": "code",
        "colab": {},
        "outputId": "478b9e7a-7c64-4400-9ca3-50010357af6c"
      },
      "cell_type": "code",
      "source": [
        "%%writefile people.csv\n",
        "1,Vivian,Hamilton,1971-07-08,green,1\n",
        "2,Karen,Holcomb,1974-05-23,green,4\n",
        "3,Cody,Garrett,1973-04-22,orange,1\n",
        "4,Roth,Fry,1975-01-29,black,1\n",
        "5,Zoe,Conway,1974-07-03,blue,2\n",
        "6,Gretchen,Kinney,1974-10-18,violet,1\n",
        "7,Driscoll,Klein,1970-10-05,blue,5\n",
        "8,Karyn,Diaz,1969-02-24,red,1\n",
        "9,Merritt,Guy,1974-10-17,indigo,4\n",
        "10,Kylan,Sexton,1975-02-28,black,4\n",
        "11,Jordan,Estes,1969-12-07,indigo,4\n",
        "12,Hope,Coffey,1973-12-24,green,5\n",
        "13,Vivian,Crane,1970-08-27,gray,5\n",
        "14,Clio,Noel,1972-12-12,red,5\n",
        "15,Hope,Silva,1970-07-01,blue,5\n",
        "16,Ayanna,Jarvis,1974-02-11,orange,5\n",
        "17,Chanda,Boyer,1973-04-01,green,4\n",
        "18,Chadwick,Knight,1973-04-29,yellow,1"
      ],
      "execution_count": 0,
      "outputs": [
        {
          "output_type": "stream",
          "text": [
            "Overwriting people.csv\n"
          ],
          "name": "stdout"
        }
      ]
    },
    {
      "metadata": {
        "id": "oi3tmC5Rt1jN",
        "colab_type": "code",
        "colab": {},
        "outputId": "2022afde-6387-4c43-f188-517c3fa7b500"
      },
      "cell_type": "code",
      "source": [
        "from pyspark.sql import Row\n",
        "\n",
        "## crea el contexto\n",
        "sc = spark.sparkContext\n",
        "\n",
        "## lee el archivo como lineas de texto\n",
        "rdd = sc.textFile(\"people.csv\")\n",
        "\n",
        "## parte por las comas\n",
        "rdd = rdd.map(lambda row: row.split(\",\"))\n",
        "\n",
        "## cambia los tipos de los datos\n",
        "rdd = rdd.map(lambda p: Row(id=p[0], \n",
        "                            firstname=p[1],\n",
        "                            surname=p[2],\n",
        "                            birthdate=p[3],\n",
        "                            color=p[4],\n",
        "                            quantity=int(p[5])))\n",
        "\n",
        "## crea el DataFrame\n",
        "df = spark.createDataFrame(rdd)\n",
        "df.createOrReplaceTempView(\"df\")\n",
        "df.show()"
      ],
      "execution_count": 0,
      "outputs": [
        {
          "output_type": "stream",
          "text": [
            "+----------+------+---------+---+--------+--------+\n",
            "| birthdate| color|firstname| id|quantity| surname|\n",
            "+----------+------+---------+---+--------+--------+\n",
            "|1971-07-08| green|   Vivian|  1|       1|Hamilton|\n",
            "|1974-05-23| green|    Karen|  2|       4| Holcomb|\n",
            "|1973-04-22|orange|     Cody|  3|       1| Garrett|\n",
            "|1975-01-29| black|     Roth|  4|       1|     Fry|\n",
            "|1974-07-03|  blue|      Zoe|  5|       2|  Conway|\n",
            "|1974-10-18| viole| Gretchen|  6|       1|  Kinney|\n",
            "|1970-10-05|  blue| Driscoll|  7|       5|   Klein|\n",
            "|1969-02-24|   red|    Karyn|  8|       1|    Diaz|\n",
            "|1974-10-17|indigo|  Merritt|  9|       4|     Guy|\n",
            "|1975-02-28| black|    Kylan| 10|       4|  Sexton|\n",
            "|1969-12-07|indigo|   Jordan| 11|       4|   Estes|\n",
            "|1973-12-24| green|     Hope| 12|       5|  Coffey|\n",
            "|1970-08-27|  gray|   Vivian| 13|       5|   Crane|\n",
            "|1972-12-12|   red|     Clio| 14|       5|    Noel|\n",
            "|1970-07-01|  blue|     Hope| 15|       5|   Silva|\n",
            "|1974-02-11|orange|   Ayanna| 16|       5|  Jarvis|\n",
            "|1973-04-01| green|   Chanda| 17|       4|   Boyer|\n",
            "|1973-04-29|yellow| Chadwick| 18|       1|  Knight|\n",
            "+----------+------+---------+---+--------+--------+\n",
            "\n"
          ],
          "name": "stdout"
        }
      ]
    },
    {
      "metadata": {
        "id": "-lps89r1t1jQ",
        "colab_type": "code",
        "colab": {},
        "outputId": "fa6c135c-91ad-41f2-a270-5d35cdb937de"
      },
      "cell_type": "code",
      "source": [
        "%%writefile people1.csv\n",
        "id,firstname,surname,birthdate,color,quantity\n",
        "1,Vivian,Hamilton,1971-07-08,green,1\n",
        "2,Karen,Holcomb,1974-05-23,green,4\n",
        "3,Cody,Garrett,1973-04-22,orange,1\n",
        "4,Roth,Fry,1975-01-29,black,1\n",
        "5,Zoe,Conway,1974-07-03,blue,2\n",
        "6,Gretchen,Kinney,1974-10-18,violet,1\n",
        "7,Driscoll,Klein,1970-10-05,blue,5\n",
        "8,Karyn,Diaz,1969-02-24,red,1\n",
        "9,Merritt,Guy,1974-10-17,indigo,4\n",
        "10,Kylan,Sexton,1975-02-28,black,4\n",
        "11,Jordan,Estes,1969-12-07,indigo,4\n",
        "12,Hope,Coffey,1973-12-24,green,5\n",
        "13,Vivian,Crane,1970-08-27,gray,5\n",
        "14,Clio,Noel,1972-12-12,red,5\n",
        "15,Hope,Silva,1970-07-01,blue,5\n",
        "16,Ayanna,Jarvis,1974-02-11,orange,5\n",
        "17,Chanda,Boyer,1973-04-01,green,4\n",
        "18,Chadwick,Knight,1973-04-29,yellow,1"
      ],
      "execution_count": 0,
      "outputs": [
        {
          "output_type": "stream",
          "text": [
            "Overwriting people1.csv\n"
          ],
          "name": "stdout"
        }
      ]
    },
    {
      "metadata": {
        "id": "JWaM4WwMt1jT",
        "colab_type": "code",
        "colab": {},
        "outputId": "1f70446b-5747-452b-a40d-72266b23dfa6"
      },
      "cell_type": "code",
      "source": [
        "## CSV\n",
        "df = spark.read.load(\"people1.csv\",\n",
        "                     format=\"csv\", sep=\",\", \n",
        "                     inferSchema=\"true\", \n",
        "                     header=\"true\")\n",
        "df.show()"
      ],
      "execution_count": 0,
      "outputs": [
        {
          "output_type": "stream",
          "text": [
            "+---+---------+--------+-------------------+------+--------+\n",
            "| id|firstname| surname|          birthdate| color|quantity|\n",
            "+---+---------+--------+-------------------+------+--------+\n",
            "|  1|   Vivian|Hamilton|1971-07-08 00:00:00| green|       1|\n",
            "|  2|    Karen| Holcomb|1974-05-23 00:00:00| green|       4|\n",
            "|  3|     Cody| Garrett|1973-04-22 00:00:00|orange|       1|\n",
            "|  4|     Roth|     Fry|1975-01-29 00:00:00| black|       1|\n",
            "|  5|      Zoe|  Conway|1974-07-03 00:00:00|  blue|       2|\n",
            "|  6| Gretchen|  Kinney|1974-10-18 00:00:00|violet|       1|\n",
            "|  7| Driscoll|   Klein|1970-10-05 00:00:00|  blue|       5|\n",
            "|  8|    Karyn|    Diaz|1969-02-24 00:00:00|   red|       1|\n",
            "|  9|  Merritt|     Guy|1974-10-17 00:00:00|indigo|       4|\n",
            "| 10|    Kylan|  Sexton|1975-02-28 00:00:00| black|       4|\n",
            "| 11|   Jordan|   Estes|1969-12-07 00:00:00|indigo|       4|\n",
            "| 12|     Hope|  Coffey|1973-12-24 00:00:00| green|       5|\n",
            "| 13|   Vivian|   Crane|1970-08-27 00:00:00|  gray|       5|\n",
            "| 14|     Clio|    Noel|1972-12-12 00:00:00|   red|       5|\n",
            "| 15|     Hope|   Silva|1970-07-01 00:00:00|  blue|       5|\n",
            "| 16|   Ayanna|  Jarvis|1974-02-11 00:00:00|orange|       5|\n",
            "| 17|   Chanda|   Boyer|1973-04-01 00:00:00| green|       4|\n",
            "| 18| Chadwick|  Knight|1973-04-29 00:00:00|yellow|       1|\n",
            "+---+---------+--------+-------------------+------+--------+\n",
            "\n"
          ],
          "name": "stdout"
        }
      ]
    },
    {
      "metadata": {
        "id": "o2JspCFLt1jW",
        "colab_type": "text"
      },
      "cell_type": "markdown",
      "source": [
        "## Operaciones sobre DataFrames"
      ]
    },
    {
      "metadata": {
        "id": "DDq0E2JEt1jX",
        "colab_type": "code",
        "colab": {},
        "outputId": "e34923ad-93f1-4858-dbb6-2b88ba425752"
      },
      "cell_type": "code",
      "source": [
        "## imprime el esquema en formato de arbol\n",
        "df.printSchema()"
      ],
      "execution_count": 0,
      "outputs": [
        {
          "output_type": "stream",
          "text": [
            "root\n",
            " |-- id: integer (nullable = true)\n",
            " |-- firstname: string (nullable = true)\n",
            " |-- surname: string (nullable = true)\n",
            " |-- birthdate: timestamp (nullable = true)\n",
            " |-- color: string (nullable = true)\n",
            " |-- quantity: integer (nullable = true)\n",
            "\n"
          ],
          "name": "stdout"
        }
      ]
    },
    {
      "metadata": {
        "id": "IzPHhmJ3t1jZ",
        "colab_type": "code",
        "colab": {},
        "outputId": "a11490de-3a5f-472f-e076-ceb445085bf6"
      },
      "cell_type": "code",
      "source": [
        "## selecciona una columna en particular\n",
        "df.select('firstname').show()"
      ],
      "execution_count": 0,
      "outputs": [
        {
          "output_type": "stream",
          "text": [
            "+---------+\n",
            "|firstname|\n",
            "+---------+\n",
            "|   Vivian|\n",
            "|    Karen|\n",
            "|     Cody|\n",
            "|     Roth|\n",
            "|      Zoe|\n",
            "| Gretchen|\n",
            "| Driscoll|\n",
            "|    Karyn|\n",
            "|  Merritt|\n",
            "|    Kylan|\n",
            "|   Jordan|\n",
            "|     Hope|\n",
            "|   Vivian|\n",
            "|     Clio|\n",
            "|     Hope|\n",
            "|   Ayanna|\n",
            "|   Chanda|\n",
            "| Chadwick|\n",
            "+---------+\n",
            "\n"
          ],
          "name": "stdout"
        }
      ]
    },
    {
      "metadata": {
        "id": "ccUV6HGQt1jc",
        "colab_type": "code",
        "colab": {},
        "outputId": "e9331c6d-06bf-4d25-8deb-6eb49fa97ec0"
      },
      "cell_type": "code",
      "source": [
        "## Selecciona varias columnas\n",
        "df.select(['firstname', 'surname']).show()"
      ],
      "execution_count": 0,
      "outputs": [
        {
          "output_type": "stream",
          "text": [
            "+---------+--------+\n",
            "|firstname| surname|\n",
            "+---------+--------+\n",
            "|   Vivian|Hamilton|\n",
            "|    Karen| Holcomb|\n",
            "|     Cody| Garrett|\n",
            "|     Roth|     Fry|\n",
            "|      Zoe|  Conway|\n",
            "| Gretchen|  Kinney|\n",
            "| Driscoll|   Klein|\n",
            "|    Karyn|    Diaz|\n",
            "|  Merritt|     Guy|\n",
            "|    Kylan|  Sexton|\n",
            "|   Jordan|   Estes|\n",
            "|     Hope|  Coffey|\n",
            "|   Vivian|   Crane|\n",
            "|     Clio|    Noel|\n",
            "|     Hope|   Silva|\n",
            "|   Ayanna|  Jarvis|\n",
            "|   Chanda|   Boyer|\n",
            "| Chadwick|  Knight|\n",
            "+---------+--------+\n",
            "\n"
          ],
          "name": "stdout"
        }
      ]
    },
    {
      "metadata": {
        "id": "B67UPm70t1jg",
        "colab_type": "code",
        "colab": {},
        "outputId": "ae05908e-7200-4d1a-e41a-0cd3ccfc1052"
      },
      "cell_type": "code",
      "source": [
        "## Filtrado\n",
        "df.filter(df['color'] == 'blue').show()"
      ],
      "execution_count": 0,
      "outputs": [
        {
          "output_type": "stream",
          "text": [
            "+---+---------+-------+-------------------+-----+--------+\n",
            "| id|firstname|surname|          birthdate|color|quantity|\n",
            "+---+---------+-------+-------------------+-----+--------+\n",
            "|  5|      Zoe| Conway|1974-07-03 00:00:00| blue|       2|\n",
            "|  7| Driscoll|  Klein|1970-10-05 00:00:00| blue|       5|\n",
            "| 15|     Hope|  Silva|1970-07-01 00:00:00| blue|       5|\n",
            "+---+---------+-------+-------------------+-----+--------+\n",
            "\n"
          ],
          "name": "stdout"
        }
      ]
    },
    {
      "metadata": {
        "id": "2Lyu52HPt1jk",
        "colab_type": "code",
        "colab": {},
        "outputId": "376290bb-ddfb-47c4-f7f2-e18acf3bec8c"
      },
      "cell_type": "code",
      "source": [
        "## Consultas\n",
        "##   Se crea una vista temporal\n",
        "##   que desaparece cuando se cierra la\n",
        "##   sesión actual de Spark\n",
        "df.createOrReplaceTempView('people') ## este es el nombre de la tabla\n",
        "\n",
        "## Se realiza la consulta\n",
        "sqlDF = spark.sql('SELECT * FROM people')\n",
        "sqlDF.show()"
      ],
      "execution_count": 0,
      "outputs": [
        {
          "output_type": "stream",
          "text": [
            "+---+---------+--------+-------------------+------+--------+\n",
            "| id|firstname| surname|          birthdate| color|quantity|\n",
            "+---+---------+--------+-------------------+------+--------+\n",
            "|  1|   Vivian|Hamilton|1971-07-08 00:00:00| green|       1|\n",
            "|  2|    Karen| Holcomb|1974-05-23 00:00:00| green|       4|\n",
            "|  3|     Cody| Garrett|1973-04-22 00:00:00|orange|       1|\n",
            "|  4|     Roth|     Fry|1975-01-29 00:00:00| black|       1|\n",
            "|  5|      Zoe|  Conway|1974-07-03 00:00:00|  blue|       2|\n",
            "|  6| Gretchen|  Kinney|1974-10-18 00:00:00|violet|       1|\n",
            "|  7| Driscoll|   Klein|1970-10-05 00:00:00|  blue|       5|\n",
            "|  8|    Karyn|    Diaz|1969-02-24 00:00:00|   red|       1|\n",
            "|  9|  Merritt|     Guy|1974-10-17 00:00:00|indigo|       4|\n",
            "| 10|    Kylan|  Sexton|1975-02-28 00:00:00| black|       4|\n",
            "| 11|   Jordan|   Estes|1969-12-07 00:00:00|indigo|       4|\n",
            "| 12|     Hope|  Coffey|1973-12-24 00:00:00| green|       5|\n",
            "| 13|   Vivian|   Crane|1970-08-27 00:00:00|  gray|       5|\n",
            "| 14|     Clio|    Noel|1972-12-12 00:00:00|   red|       5|\n",
            "| 15|     Hope|   Silva|1970-07-01 00:00:00|  blue|       5|\n",
            "| 16|   Ayanna|  Jarvis|1974-02-11 00:00:00|orange|       5|\n",
            "| 17|   Chanda|   Boyer|1973-04-01 00:00:00| green|       4|\n",
            "| 18| Chadwick|  Knight|1973-04-29 00:00:00|yellow|       1|\n",
            "+---+---------+--------+-------------------+------+--------+\n",
            "\n"
          ],
          "name": "stdout"
        }
      ]
    },
    {
      "metadata": {
        "id": "CS3KYcVCt1jn",
        "colab_type": "code",
        "colab": {},
        "outputId": "e90a0a23-6b1a-46de-9055-f4ea0adcf1d2"
      },
      "cell_type": "code",
      "source": [
        "## Se crea una vista temporal que existe entre\n",
        "## sesiones y solo desaparece cuando se cierra\n",
        "## la aplicación actual de Spark\n",
        "df.createGlobalTempView(\"people\")\n",
        "\n",
        "## percatese de la forma de nombrar la tabla\n",
        "## en la consulta SQL\n",
        "spark.sql(\"SELECT * FROM global_temp.people\").show()"
      ],
      "execution_count": 0,
      "outputs": [
        {
          "output_type": "stream",
          "text": [
            "+---+---------+--------+-------------------+------+--------+\n",
            "| id|firstname| surname|          birthdate| color|quantity|\n",
            "+---+---------+--------+-------------------+------+--------+\n",
            "|  1|   Vivian|Hamilton|1971-07-08 00:00:00| green|       1|\n",
            "|  2|    Karen| Holcomb|1974-05-23 00:00:00| green|       4|\n",
            "|  3|     Cody| Garrett|1973-04-22 00:00:00|orange|       1|\n",
            "|  4|     Roth|     Fry|1975-01-29 00:00:00| black|       1|\n",
            "|  5|      Zoe|  Conway|1974-07-03 00:00:00|  blue|       2|\n",
            "|  6| Gretchen|  Kinney|1974-10-18 00:00:00|violet|       1|\n",
            "|  7| Driscoll|   Klein|1970-10-05 00:00:00|  blue|       5|\n",
            "|  8|    Karyn|    Diaz|1969-02-24 00:00:00|   red|       1|\n",
            "|  9|  Merritt|     Guy|1974-10-17 00:00:00|indigo|       4|\n",
            "| 10|    Kylan|  Sexton|1975-02-28 00:00:00| black|       4|\n",
            "| 11|   Jordan|   Estes|1969-12-07 00:00:00|indigo|       4|\n",
            "| 12|     Hope|  Coffey|1973-12-24 00:00:00| green|       5|\n",
            "| 13|   Vivian|   Crane|1970-08-27 00:00:00|  gray|       5|\n",
            "| 14|     Clio|    Noel|1972-12-12 00:00:00|   red|       5|\n",
            "| 15|     Hope|   Silva|1970-07-01 00:00:00|  blue|       5|\n",
            "| 16|   Ayanna|  Jarvis|1974-02-11 00:00:00|orange|       5|\n",
            "| 17|   Chanda|   Boyer|1973-04-01 00:00:00| green|       4|\n",
            "| 18| Chadwick|  Knight|1973-04-29 00:00:00|yellow|       1|\n",
            "+---+---------+--------+-------------------+------+--------+\n",
            "\n"
          ],
          "name": "stdout"
        }
      ]
    },
    {
      "metadata": {
        "id": "PDZUDA8Ut1jq",
        "colab_type": "code",
        "colab": {},
        "outputId": "edf747c1-912b-48b9-8118-5d6337263e34"
      },
      "cell_type": "code",
      "source": [
        "## Ejecución de comandos SQL directamente sobre archivos\n",
        "df = spark.sql('SELECT * FROM `people`')\n",
        "df.show()"
      ],
      "execution_count": 0,
      "outputs": [
        {
          "output_type": "stream",
          "text": [
            "+---+---------+--------+-------------------+------+--------+\n",
            "| id|firstname| surname|          birthdate| color|quantity|\n",
            "+---+---------+--------+-------------------+------+--------+\n",
            "|  1|   Vivian|Hamilton|1971-07-08 00:00:00| green|       1|\n",
            "|  2|    Karen| Holcomb|1974-05-23 00:00:00| green|       4|\n",
            "|  3|     Cody| Garrett|1973-04-22 00:00:00|orange|       1|\n",
            "|  4|     Roth|     Fry|1975-01-29 00:00:00| black|       1|\n",
            "|  5|      Zoe|  Conway|1974-07-03 00:00:00|  blue|       2|\n",
            "|  6| Gretchen|  Kinney|1974-10-18 00:00:00|violet|       1|\n",
            "|  7| Driscoll|   Klein|1970-10-05 00:00:00|  blue|       5|\n",
            "|  8|    Karyn|    Diaz|1969-02-24 00:00:00|   red|       1|\n",
            "|  9|  Merritt|     Guy|1974-10-17 00:00:00|indigo|       4|\n",
            "| 10|    Kylan|  Sexton|1975-02-28 00:00:00| black|       4|\n",
            "| 11|   Jordan|   Estes|1969-12-07 00:00:00|indigo|       4|\n",
            "| 12|     Hope|  Coffey|1973-12-24 00:00:00| green|       5|\n",
            "| 13|   Vivian|   Crane|1970-08-27 00:00:00|  gray|       5|\n",
            "| 14|     Clio|    Noel|1972-12-12 00:00:00|   red|       5|\n",
            "| 15|     Hope|   Silva|1970-07-01 00:00:00|  blue|       5|\n",
            "| 16|   Ayanna|  Jarvis|1974-02-11 00:00:00|orange|       5|\n",
            "| 17|   Chanda|   Boyer|1973-04-01 00:00:00| green|       4|\n",
            "| 18| Chadwick|  Knight|1973-04-29 00:00:00|yellow|       1|\n",
            "+---+---------+--------+-------------------+------+--------+\n",
            "\n"
          ],
          "name": "stdout"
        }
      ]
    },
    {
      "metadata": {
        "id": "4nSbz48Dt1jt",
        "colab_type": "text"
      },
      "cell_type": "markdown",
      "source": [
        "---"
      ]
    },
    {
      "metadata": {
        "id": "cUJ_-rZtt1ju",
        "colab_type": "code",
        "colab": {}
      },
      "cell_type": "code",
      "source": [
        "!rm people.*"
      ],
      "execution_count": 0,
      "outputs": []
    }
  ]
}