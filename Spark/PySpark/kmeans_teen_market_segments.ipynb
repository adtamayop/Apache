{
  "nbformat": 4,
  "nbformat_minor": 0,
  "metadata": {
    "colab": {
      "name": "4-kmeans-teen-market-segments.ipynb",
      "version": "0.3.2",
      "provenance": []
    },
    "kernelspec": {
      "display_name": "Python 3",
      "language": "python",
      "name": "python3"
    }
  },
  "cells": [
    {
      "metadata": {
        "id": "bSDuYADkuXyf",
        "colab_type": "text"
      },
      "cell_type": "markdown",
      "source": [
        "Segmentación del mercado de adolecentes \n",
        "===\n"
      ]
    },
    {
      "metadata": {
        "id": "XNrjJoVBuXyg",
        "colab_type": "text"
      },
      "cell_type": "markdown",
      "source": [
        "---"
      ]
    },
    {
      "metadata": {
        "id": "Rrb-YrpfuXyk",
        "colab_type": "text"
      },
      "cell_type": "markdown",
      "source": [
        "## Definición del problema real"
      ]
    },
    {
      "metadata": {
        "id": "LNjPWyO0uXyk",
        "colab_type": "text"
      },
      "cell_type": "markdown",
      "source": [
        "Un vendedor desea enviar publicidad electrónica a una población de adolecentes y adultos jóvenes con el fin de maximizar sus ventas. Para ello, desea poder clasificar a sus clientes potenciales por grupos de interés de acuerdo con sus intereses y consecuentemente enviar publicidad específica a cada uno de ellos.   "
      ]
    },
    {
      "metadata": {
        "id": "30e-LsBouXym",
        "colab_type": "text"
      },
      "cell_type": "markdown",
      "source": [
        "## Definición del problema en términos de los datos"
      ]
    },
    {
      "metadata": {
        "id": "m2UH-EeUuXyn",
        "colab_type": "text"
      },
      "cell_type": "markdown",
      "source": [
        "El problema consiste en poder determinar que grupos de interés existen en una población de clientes a partir de los mensajes enviados por un servicio de redes sociales. La información disponible consiste en 30000 observaciones de 40 variables que podrían caracterizar los intereses de la población analizada. Cada variable mide la frecuencia con que una determinada palabra aparece en los mensajes de texto; adicionalmente, dentro de estas variables se incluye  información como el sexo, la edad y la cantidad de contactos de la persona. "
      ]
    },
    {
      "metadata": {
        "id": "vJKBQ61JuXyn",
        "colab_type": "text"
      },
      "cell_type": "markdown",
      "source": [
        "## Exploración"
      ]
    },
    {
      "metadata": {
        "id": "l74ALD6RuXyo",
        "colab_type": "code",
        "colab": {}
      },
      "cell_type": "code",
      "source": [
        "import findspark\n",
        "findspark.init()\n",
        "\n",
        "from pyspark import SparkConf, SparkContext\n",
        "from pyspark.sql import SparkSession\n",
        "\n",
        "APP_NAME = \"Spark MLlib Application\"\n",
        "\n",
        "spark = SparkSession \\\n",
        "    .builder \\\n",
        "    .appName(APP_NAME) \\\n",
        "    .getOrCreate()\n",
        "\n",
        "sc = spark.sparkContext"
      ],
      "execution_count": 0,
      "outputs": []
    },
    {
      "metadata": {
        "id": "SVw_vfzfuXyr",
        "colab_type": "text"
      },
      "cell_type": "markdown",
      "source": [
        "### Preprocesamiento del archivo original"
      ]
    },
    {
      "metadata": {
        "id": "OxOnynjPuXyt",
        "colab_type": "code",
        "colab": {},
        "outputId": "fc8ab570-388b-4e50-b8f9-3dcb8d6dce50"
      },
      "cell_type": "code",
      "source": [
        "##\n",
        "## los datos contienen cabecera\n",
        "##\n",
        "!head files/snsdata.csv"
      ],
      "execution_count": 0,
      "outputs": [
        {
          "output_type": "stream",
          "text": [
            "gradyear,gender,age,friends,basketball,football,soccer,softball,volleyball,swimming,cheerleading,baseball,tennis,sports,cute,sex,sexy,hot,kissed,dance,band,marching,music,rock,god,church,jesus,bible,hair,dress,blonde,mall,shopping,clothes,hollister,abercrombie,die,death,drunk,drugs\n",
            "2006,M,18.982,7,0,0,0,0,0,0,0,0,0,0,0,0,0,0,0,1,0,0,0,0,0,0,0,0,0,0,0,0,0,0,0,0,0,0,0,0\n",
            "2006,F,18.801,0,0,1,0,0,0,0,0,0,0,0,1,0,0,0,0,0,0,0,2,2,1,0,0,0,6,4,0,1,0,0,0,0,0,0,0,0\n",
            "2006,M,18.335,69,0,1,0,0,0,0,0,0,0,0,0,0,0,0,0,0,2,0,1,0,0,0,0,0,0,0,0,0,0,0,0,0,0,1,0,0\n",
            "2006,F,18.875,0,0,0,0,0,0,0,0,0,0,0,1,0,0,0,0,0,0,0,0,1,0,0,0,0,0,0,0,0,0,0,0,0,0,0,0,0\n",
            "2006,NA,18.995,10,0,0,0,0,0,0,0,0,0,0,0,1,0,0,5,1,1,0,3,0,1,0,0,0,1,0,0,0,2,0,0,0,0,0,1,1\n",
            "2006,F,,142,0,0,0,0,0,0,0,0,0,0,0,1,0,0,0,0,0,1,2,0,0,0,0,0,0,1,0,0,1,0,0,0,0,0,1,0\n",
            "2006,F,18.93,72,0,0,0,0,0,0,0,0,0,0,0,0,0,0,0,0,1,1,0,0,0,0,0,0,0,0,0,2,0,0,2,0,0,0,0,0\n",
            "2006,M,18.322,17,0,0,0,1,0,0,0,0,0,0,0,2,1,0,0,0,0,0,1,1,0,0,0,0,0,0,0,0,0,0,0,0,0,0,0,0\n",
            "2006,F,19.055,52,0,0,0,0,0,0,0,0,0,0,0,0,0,0,0,0,0,0,0,0,0,0,0,0,0,0,0,0,0,0,0,0,0,0,0,0\n"
          ],
          "name": "stdout"
        }
      ]
    },
    {
      "metadata": {
        "id": "2zYjmSX1uXy0",
        "colab_type": "code",
        "colab": {},
        "outputId": "aad37d68-83cf-4ee7-bfdb-7b5bcc5064a4"
      },
      "cell_type": "code",
      "source": [
        "##\n",
        "## extrae los nombres de las columnas\n",
        "##\n",
        "!head -n 1 files/snsdata.csv > names\n",
        "!cat names"
      ],
      "execution_count": 0,
      "outputs": [
        {
          "output_type": "stream",
          "text": [
            "gradyear,gender,age,friends,basketball,football,soccer,softball,volleyball,swimming,cheerleading,baseball,tennis,sports,cute,sex,sexy,hot,kissed,dance,band,marching,music,rock,god,church,jesus,bible,hair,dress,blonde,mall,shopping,clothes,hollister,abercrombie,die,death,drunk,drugs\n"
          ],
          "name": "stdout"
        }
      ]
    },
    {
      "metadata": {
        "id": "G5H5ZgUKuXy2",
        "colab_type": "code",
        "colab": {},
        "outputId": "4a8a8602-9912-43c5-b51d-4fed66c9ebde"
      },
      "cell_type": "code",
      "source": [
        "##\n",
        "## carga los nombres de las columas\n",
        "##\n",
        "names = open('names', 'r').read()\n",
        "names = names.replace('\\n', '')\n",
        "names = names.split(',')\n",
        "names"
      ],
      "execution_count": 0,
      "outputs": [
        {
          "output_type": "execute_result",
          "data": {
            "text/plain": [
              "['gradyear',\n",
              " 'gender',\n",
              " 'age',\n",
              " 'friends',\n",
              " 'basketball',\n",
              " 'football',\n",
              " 'soccer',\n",
              " 'softball',\n",
              " 'volleyball',\n",
              " 'swimming',\n",
              " 'cheerleading',\n",
              " 'baseball',\n",
              " 'tennis',\n",
              " 'sports',\n",
              " 'cute',\n",
              " 'sex',\n",
              " 'sexy',\n",
              " 'hot',\n",
              " 'kissed',\n",
              " 'dance',\n",
              " 'band',\n",
              " 'marching',\n",
              " 'music',\n",
              " 'rock',\n",
              " 'god',\n",
              " 'church',\n",
              " 'jesus',\n",
              " 'bible',\n",
              " 'hair',\n",
              " 'dress',\n",
              " 'blonde',\n",
              " 'mall',\n",
              " 'shopping',\n",
              " 'clothes',\n",
              " 'hollister',\n",
              " 'abercrombie',\n",
              " 'die',\n",
              " 'death',\n",
              " 'drunk',\n",
              " 'drugs']"
            ]
          },
          "metadata": {
            "tags": []
          },
          "execution_count": 4
        }
      ]
    },
    {
      "metadata": {
        "id": "_csjcvAtuXy6",
        "colab_type": "code",
        "colab": {},
        "outputId": "62d9ff72-fe22-437b-d00c-ff164f67dd3c"
      },
      "cell_type": "code",
      "source": [
        "##\n",
        "## se crea un nuevo archivo sin la cabecera\n",
        "##\n",
        "!tail +2 files/snsdata.csv > snsdata\n",
        "!head snsdata"
      ],
      "execution_count": 0,
      "outputs": [
        {
          "output_type": "stream",
          "text": [
            "2006,M,18.982,7,0,0,0,0,0,0,0,0,0,0,0,0,0,0,0,1,0,0,0,0,0,0,0,0,0,0,0,0,0,0,0,0,0,0,0,0\n",
            "2006,F,18.801,0,0,1,0,0,0,0,0,0,0,0,1,0,0,0,0,0,0,0,2,2,1,0,0,0,6,4,0,1,0,0,0,0,0,0,0,0\n",
            "2006,M,18.335,69,0,1,0,0,0,0,0,0,0,0,0,0,0,0,0,0,2,0,1,0,0,0,0,0,0,0,0,0,0,0,0,0,0,1,0,0\n",
            "2006,F,18.875,0,0,0,0,0,0,0,0,0,0,0,1,0,0,0,0,0,0,0,0,1,0,0,0,0,0,0,0,0,0,0,0,0,0,0,0,0\n",
            "2006,NA,18.995,10,0,0,0,0,0,0,0,0,0,0,0,1,0,0,5,1,1,0,3,0,1,0,0,0,1,0,0,0,2,0,0,0,0,0,1,1\n",
            "2006,F,,142,0,0,0,0,0,0,0,0,0,0,0,1,0,0,0,0,0,1,2,0,0,0,0,0,0,1,0,0,1,0,0,0,0,0,1,0\n",
            "2006,F,18.93,72,0,0,0,0,0,0,0,0,0,0,0,0,0,0,0,0,1,1,0,0,0,0,0,0,0,0,0,2,0,0,2,0,0,0,0,0\n",
            "2006,M,18.322,17,0,0,0,1,0,0,0,0,0,0,0,2,1,0,0,0,0,0,1,1,0,0,0,0,0,0,0,0,0,0,0,0,0,0,0,0\n",
            "2006,F,19.055,52,0,0,0,0,0,0,0,0,0,0,0,0,0,0,0,0,0,0,0,0,0,0,0,0,0,0,0,0,0,0,0,0,0,0,0,0\n",
            "2006,F,18.708,39,0,0,0,0,0,0,0,0,0,0,1,0,0,1,0,0,0,0,1,1,6,0,2,0,1,0,0,0,1,0,0,0,0,0,0,0\n"
          ],
          "name": "stdout"
        }
      ]
    },
    {
      "metadata": {
        "id": "M1EQVypjuXzA",
        "colab_type": "code",
        "colab": {},
        "outputId": "b782c4b2-8678-43dd-f432-b147a7c5f204"
      },
      "cell_type": "code",
      "source": [
        "##\n",
        "## Carga de datos como un RDD\n",
        "##   Todos los campos son strings\n",
        "##\n",
        "teens = sc.textFile(\"snsdata\")\n",
        "teens.collect()[0:10]"
      ],
      "execution_count": 0,
      "outputs": [
        {
          "output_type": "execute_result",
          "data": {
            "text/plain": [
              "['2006,M,18.982,7,0,0,0,0,0,0,0,0,0,0,0,0,0,0,0,1,0,0,0,0,0,0,0,0,0,0,0,0,0,0,0,0,0,0,0,0',\n",
              " '2006,F,18.801,0,0,1,0,0,0,0,0,0,0,0,1,0,0,0,0,0,0,0,2,2,1,0,0,0,6,4,0,1,0,0,0,0,0,0,0,0',\n",
              " '2006,M,18.335,69,0,1,0,0,0,0,0,0,0,0,0,0,0,0,0,0,2,0,1,0,0,0,0,0,0,0,0,0,0,0,0,0,0,1,0,0',\n",
              " '2006,F,18.875,0,0,0,0,0,0,0,0,0,0,0,1,0,0,0,0,0,0,0,0,1,0,0,0,0,0,0,0,0,0,0,0,0,0,0,0,0',\n",
              " '2006,NA,18.995,10,0,0,0,0,0,0,0,0,0,0,0,1,0,0,5,1,1,0,3,0,1,0,0,0,1,0,0,0,2,0,0,0,0,0,1,1',\n",
              " '2006,F,,142,0,0,0,0,0,0,0,0,0,0,0,1,0,0,0,0,0,1,2,0,0,0,0,0,0,1,0,0,1,0,0,0,0,0,1,0',\n",
              " '2006,F,18.93,72,0,0,0,0,0,0,0,0,0,0,0,0,0,0,0,0,1,1,0,0,0,0,0,0,0,0,0,2,0,0,2,0,0,0,0,0',\n",
              " '2006,M,18.322,17,0,0,0,1,0,0,0,0,0,0,0,2,1,0,0,0,0,0,1,1,0,0,0,0,0,0,0,0,0,0,0,0,0,0,0,0',\n",
              " '2006,F,19.055,52,0,0,0,0,0,0,0,0,0,0,0,0,0,0,0,0,0,0,0,0,0,0,0,0,0,0,0,0,0,0,0,0,0,0,0,0',\n",
              " '2006,F,18.708,39,0,0,0,0,0,0,0,0,0,0,1,0,0,1,0,0,0,0,1,1,6,0,2,0,1,0,0,0,1,0,0,0,0,0,0,0']"
            ]
          },
          "metadata": {
            "tags": []
          },
          "execution_count": 6
        }
      ]
    },
    {
      "metadata": {
        "id": "JepJ2Wk8uXzF",
        "colab_type": "code",
        "colab": {},
        "outputId": "ec9ef312-37aa-41f6-bd34-5fda7bd49f94"
      },
      "cell_type": "code",
      "source": [
        "##\n",
        "## Se reemplazan las cadenas de texto\n",
        "##\n",
        "teens = teens.map(lambda row: row.replace('M', '0'))\n",
        "teens = teens.map(lambda row: row.replace('F', '1'))\n",
        "teens = teens.map(lambda row: row.replace(',,', ',None,'))\n",
        "teens = teens.map(lambda row: row.replace('NA', 'None'))\n",
        "teens.collect()[0:10]"
      ],
      "execution_count": 0,
      "outputs": [
        {
          "output_type": "execute_result",
          "data": {
            "text/plain": [
              "['2006,0,18.982,7,0,0,0,0,0,0,0,0,0,0,0,0,0,0,0,1,0,0,0,0,0,0,0,0,0,0,0,0,0,0,0,0,0,0,0,0',\n",
              " '2006,1,18.801,0,0,1,0,0,0,0,0,0,0,0,1,0,0,0,0,0,0,0,2,2,1,0,0,0,6,4,0,1,0,0,0,0,0,0,0,0',\n",
              " '2006,0,18.335,69,0,1,0,0,0,0,0,0,0,0,0,0,0,0,0,0,2,0,1,0,0,0,0,0,0,0,0,0,0,0,0,0,0,1,0,0',\n",
              " '2006,1,18.875,0,0,0,0,0,0,0,0,0,0,0,1,0,0,0,0,0,0,0,0,1,0,0,0,0,0,0,0,0,0,0,0,0,0,0,0,0',\n",
              " '2006,None,18.995,10,0,0,0,0,0,0,0,0,0,0,0,1,0,0,5,1,1,0,3,0,1,0,0,0,1,0,0,0,2,0,0,0,0,0,1,1',\n",
              " '2006,1,None,142,0,0,0,0,0,0,0,0,0,0,0,1,0,0,0,0,0,1,2,0,0,0,0,0,0,1,0,0,1,0,0,0,0,0,1,0',\n",
              " '2006,1,18.93,72,0,0,0,0,0,0,0,0,0,0,0,0,0,0,0,0,1,1,0,0,0,0,0,0,0,0,0,2,0,0,2,0,0,0,0,0',\n",
              " '2006,0,18.322,17,0,0,0,1,0,0,0,0,0,0,0,2,1,0,0,0,0,0,1,1,0,0,0,0,0,0,0,0,0,0,0,0,0,0,0,0',\n",
              " '2006,1,19.055,52,0,0,0,0,0,0,0,0,0,0,0,0,0,0,0,0,0,0,0,0,0,0,0,0,0,0,0,0,0,0,0,0,0,0,0,0',\n",
              " '2006,1,18.708,39,0,0,0,0,0,0,0,0,0,0,1,0,0,1,0,0,0,0,1,1,6,0,2,0,1,0,0,0,1,0,0,0,0,0,0,0']"
            ]
          },
          "metadata": {
            "tags": []
          },
          "execution_count": 7
        }
      ]
    },
    {
      "metadata": {
        "id": "kLr5x5EguXzI",
        "colab_type": "code",
        "colab": {},
        "outputId": "77384025-495d-4b83-903b-abc7d06716c7"
      },
      "cell_type": "code",
      "source": [
        "##\n",
        "## Se convierten los strings a números\n",
        "##\n",
        "from numpy import array\n",
        "teens = teens.map(lambda row: ([eval(x) for x in row.split(',')]))\n",
        "print(teens.collect()[0:10])"
      ],
      "execution_count": 0,
      "outputs": [
        {
          "output_type": "stream",
          "text": [
            "[[2006, 0, 18.982, 7, 0, 0, 0, 0, 0, 0, 0, 0, 0, 0, 0, 0, 0, 0, 0, 1, 0, 0, 0, 0, 0, 0, 0, 0, 0, 0, 0, 0, 0, 0, 0, 0, 0, 0, 0, 0], [2006, 1, 18.801, 0, 0, 1, 0, 0, 0, 0, 0, 0, 0, 0, 1, 0, 0, 0, 0, 0, 0, 0, 2, 2, 1, 0, 0, 0, 6, 4, 0, 1, 0, 0, 0, 0, 0, 0, 0, 0], [2006, 0, 18.335, 69, 0, 1, 0, 0, 0, 0, 0, 0, 0, 0, 0, 0, 0, 0, 0, 0, 2, 0, 1, 0, 0, 0, 0, 0, 0, 0, 0, 0, 0, 0, 0, 0, 0, 1, 0, 0], [2006, 1, 18.875, 0, 0, 0, 0, 0, 0, 0, 0, 0, 0, 0, 1, 0, 0, 0, 0, 0, 0, 0, 0, 1, 0, 0, 0, 0, 0, 0, 0, 0, 0, 0, 0, 0, 0, 0, 0, 0], [2006, None, 18.995, 10, 0, 0, 0, 0, 0, 0, 0, 0, 0, 0, 0, 1, 0, 0, 5, 1, 1, 0, 3, 0, 1, 0, 0, 0, 1, 0, 0, 0, 2, 0, 0, 0, 0, 0, 1, 1], [2006, 1, None, 142, 0, 0, 0, 0, 0, 0, 0, 0, 0, 0, 0, 1, 0, 0, 0, 0, 0, 1, 2, 0, 0, 0, 0, 0, 0, 1, 0, 0, 1, 0, 0, 0, 0, 0, 1, 0], [2006, 1, 18.93, 72, 0, 0, 0, 0, 0, 0, 0, 0, 0, 0, 0, 0, 0, 0, 0, 0, 1, 1, 0, 0, 0, 0, 0, 0, 0, 0, 0, 2, 0, 0, 2, 0, 0, 0, 0, 0], [2006, 0, 18.322, 17, 0, 0, 0, 1, 0, 0, 0, 0, 0, 0, 0, 2, 1, 0, 0, 0, 0, 0, 1, 1, 0, 0, 0, 0, 0, 0, 0, 0, 0, 0, 0, 0, 0, 0, 0, 0], [2006, 1, 19.055, 52, 0, 0, 0, 0, 0, 0, 0, 0, 0, 0, 0, 0, 0, 0, 0, 0, 0, 0, 0, 0, 0, 0, 0, 0, 0, 0, 0, 0, 0, 0, 0, 0, 0, 0, 0, 0], [2006, 1, 18.708, 39, 0, 0, 0, 0, 0, 0, 0, 0, 0, 0, 1, 0, 0, 1, 0, 0, 0, 0, 1, 1, 6, 0, 2, 0, 1, 0, 0, 0, 1, 0, 0, 0, 0, 0, 0, 0]]\n"
          ],
          "name": "stdout"
        }
      ]
    },
    {
      "metadata": {
        "id": "BLHvk-eGuXzN",
        "colab_type": "text"
      },
      "cell_type": "markdown",
      "source": [
        "### Cómputo de estadísticos simples sobre el RDD para el género"
      ]
    },
    {
      "metadata": {
        "id": "JtpnIqJ2uXzP",
        "colab_type": "code",
        "colab": {},
        "outputId": "e13f73bb-85be-45a7-d0f0-2089ecc51266"
      },
      "cell_type": "code",
      "source": [
        "##\n",
        "## Cómputo del número de hombres y mujeres\n",
        "## directamente sobre el RDD\n",
        "## 0=M,1=F\n",
        "##\n",
        "print('Male = ', teens.filter(lambda row: row[1] == 0).count())\n",
        "print('Female = ',teens.filter(lambda row: row[1] == 1).count())\n",
        "print('None = ',teens.filter(lambda row: row[1] is None).count())"
      ],
      "execution_count": 0,
      "outputs": [
        {
          "output_type": "stream",
          "text": [
            "Male =  5222\n",
            "Female =  22054\n",
            "None =  2724\n"
          ],
          "name": "stdout"
        }
      ]
    },
    {
      "metadata": {
        "id": "srstaPxNuXzS",
        "colab_type": "code",
        "colab": {},
        "outputId": "7ce55ee1-d691-4ed6-8a15-64691531eaef"
      },
      "cell_type": "code",
      "source": [
        "##\n",
        "## Cómputo del número de hombres y mujeres\n",
        "## usando SQL\n",
        "##\n",
        "df = teens.toDF(names)\n",
        "df.createOrReplaceTempView('teens')\n",
        "spark.sql('SELECT gender, COUNT(*) FROM teens GROUP BY gender').show()"
      ],
      "execution_count": 0,
      "outputs": [
        {
          "output_type": "stream",
          "text": [
            "+------+--------+\n",
            "|gender|count(1)|\n",
            "+------+--------+\n",
            "|     0|    5222|\n",
            "|  null|    2724|\n",
            "|     1|   22054|\n",
            "+------+--------+\n",
            "\n"
          ],
          "name": "stdout"
        }
      ]
    },
    {
      "metadata": {
        "id": "iO4BxeAEuXzW",
        "colab_type": "text"
      },
      "cell_type": "markdown",
      "source": [
        "### Cómputo de estadísticos simples sobre el RDD para la edad"
      ]
    },
    {
      "metadata": {
        "id": "pP26dUnKuXzX",
        "colab_type": "code",
        "colab": {},
        "outputId": "67d924c8-30b0-44cd-a950-a43f56a0e84f"
      },
      "cell_type": "code",
      "source": [
        "##\n",
        "## Estadisticas para la edad \n",
        "##   La muestra contiene un rango de edades \n",
        "##   por fuera de la población de interés\n",
        "##\n",
        "\n",
        "from pyspark.mllib.stat import Statistics\n",
        "\n",
        "summary = Statistics.colStats(teens)\n",
        "print('Minimo= ', summary.min()[2])\n",
        "print('Maximo= ', summary.max()[2])\n",
        "print('Promedio= ', summary.mean()[2])\n",
        "print('Varianza= ', summary.variance()[2])\n",
        "print('No ceros= ', summary.numNonzeros()[2])"
      ],
      "execution_count": 0,
      "outputs": [
        {
          "output_type": "stream",
          "text": [
            "Minimo=  3.086\n",
            "Maximo=  106.927\n",
            "Promedio=  nan\n",
            "Varianza=  nan\n",
            "No ceros=  30000.0\n"
          ],
          "name": "stdout"
        }
      ]
    },
    {
      "metadata": {
        "id": "EV78kPLauXzf",
        "colab_type": "code",
        "colab": {},
        "outputId": "649d5b19-c5a2-4d6e-a2c8-3534dc836b0e"
      },
      "cell_type": "code",
      "source": [
        "##\n",
        "## Estadisticas para la edad \n",
        "##\n",
        "sql = \"\"\"\n",
        "SELECT \n",
        "    min(age), \n",
        "    max(age), \n",
        "    mean(age),\n",
        "    std(age)\n",
        "FROM \n",
        "    teens \n",
        "\"\"\"\n",
        "spark.sql(sql).show()"
      ],
      "execution_count": 0,
      "outputs": [
        {
          "output_type": "stream",
          "text": [
            "+--------+--------+------------------+------------------+\n",
            "|min(age)|max(age)|          avg(age)|  stddev_samp(age)|\n",
            "+--------+--------+------------------+------------------+\n",
            "|   3.086| 106.927|17.995230902080486|7.8604164228228495|\n",
            "+--------+--------+------------------+------------------+\n",
            "\n"
          ],
          "name": "stdout"
        }
      ]
    },
    {
      "metadata": {
        "id": "URpvIW4MuXzj",
        "colab_type": "text"
      },
      "cell_type": "markdown",
      "source": [
        "### Imputación de datos"
      ]
    },
    {
      "metadata": {
        "id": "gYhBAFfnuXzk",
        "colab_type": "text"
      },
      "cell_type": "markdown",
      "source": [
        "#### Cálculo de la edad promedio por año de graduación usando Map/Reduce"
      ]
    },
    {
      "metadata": {
        "id": "y3faoUs4uXzl",
        "colab_type": "code",
        "colab": {},
        "outputId": "12437dc4-a880-4e67-86b2-5066bdb5b4c0"
      },
      "cell_type": "code",
      "source": [
        "##\n",
        "## Mapper: Genera las parejas (K, V) sin tener\n",
        "## en cuenta los valores None\n",
        "##\n",
        "ages = teens.map(lambda x: (int(x[0]), (x[2], 1)) if x[2] is not None else None)\n",
        "ages = ages.filter(lambda y: y is not None)\n",
        "ages.collect()[1:20]"
      ],
      "execution_count": 0,
      "outputs": [
        {
          "output_type": "execute_result",
          "data": {
            "text/plain": [
              "[(2006, (18.801, 1)),\n",
              " (2006, (18.335, 1)),\n",
              " (2006, (18.875, 1)),\n",
              " (2006, (18.995, 1)),\n",
              " (2006, (18.93, 1)),\n",
              " (2006, (18.322, 1)),\n",
              " (2006, (19.055, 1)),\n",
              " (2006, (18.708, 1)),\n",
              " (2006, (18.543, 1)),\n",
              " (2006, (19.463, 1)),\n",
              " (2006, (18.097, 1)),\n",
              " (2006, (18.398, 1)),\n",
              " (2006, (18.987, 1)),\n",
              " (2006, (17.158, 1)),\n",
              " (2006, (18.497, 1)),\n",
              " (2006, (18.738, 1)),\n",
              " (2006, (19.296, 1)),\n",
              " (2006, (18.752, 1)),\n",
              " (2006, (19.036, 1))]"
            ]
          },
          "metadata": {
            "tags": []
          },
          "execution_count": 13
        }
      ]
    },
    {
      "metadata": {
        "id": "mPJbkEituXzo",
        "colab_type": "code",
        "colab": {},
        "outputId": "f2332c71-2876-4520-8a50-77f2173d517d"
      },
      "cell_type": "code",
      "source": [
        "##\n",
        "## Reducer: cálcula la suma de edades y la \n",
        "## cantidad de datos\n",
        "##\n",
        "ages = ages.reduceByKey(lambda a, b: (a[0] + b[0], a[1]+b[1]))\n",
        "ages.collect()"
      ],
      "execution_count": 0,
      "outputs": [
        {
          "output_type": "execute_result",
          "data": {
            "text/plain": [
              "[(2006, (120660.3039999998, 6305)),\n",
              " (2008, (108875.78400000033, 6213)),\n",
              " (2007, (116142.06500000008, 6315)),\n",
              " (2009, (102623.10599999984, 6081))]"
            ]
          },
          "metadata": {
            "tags": []
          },
          "execution_count": 14
        }
      ]
    },
    {
      "metadata": {
        "id": "LMuoAlUHuXzt",
        "colab_type": "code",
        "colab": {},
        "outputId": "68c8cfb2-d877-45dc-cc2d-53c79d0901b6"
      },
      "cell_type": "code",
      "source": [
        "##\n",
        "## Mapper: calcula la edad promedio por\n",
        "## año de graduación\n",
        "##\n",
        "ages = ages.map(lambda y: [y[0], y[1][0] / y[1][1]])\n",
        "ages.collect()"
      ],
      "execution_count": 0,
      "outputs": [
        {
          "output_type": "execute_result",
          "data": {
            "text/plain": [
              "[[2006, 19.137240919904805],\n",
              " [2008, 17.523866731047857],\n",
              " [2007, 18.39145922406969],\n",
              " [2009, 16.876024666995534]]"
            ]
          },
          "metadata": {
            "tags": []
          },
          "execution_count": 15
        }
      ]
    },
    {
      "metadata": {
        "id": "dd-vs90puXzv",
        "colab_type": "code",
        "colab": {},
        "outputId": "f80ce4d9-2f65-4584-bfd4-e058caaec210"
      },
      "cell_type": "code",
      "source": [
        "##\n",
        "## Convierte la lista de listas\n",
        "## en un diccionario\n",
        "##\n",
        "mean_age = {}\n",
        "for age in ages.collect():\n",
        "    mean_age[age[0]] = age[1]\n",
        "mean_age"
      ],
      "execution_count": 0,
      "outputs": [
        {
          "output_type": "execute_result",
          "data": {
            "text/plain": [
              "{2006: 19.137240919904805,\n",
              " 2008: 17.523866731047857,\n",
              " 2007: 18.39145922406969,\n",
              " 2009: 16.876024666995534}"
            ]
          },
          "metadata": {
            "tags": []
          },
          "execution_count": 16
        }
      ]
    },
    {
      "metadata": {
        "id": "z38NF6KfuXzy",
        "colab_type": "code",
        "colab": {}
      },
      "cell_type": "code",
      "source": [
        "##\n",
        "## reemplaza los NA en edad por el promedio\n",
        "##\n",
        "def f(row):\n",
        "    row[2] = mean_age[row[0]] if row[2] is None else row[2] \n",
        "    return row\n",
        "    \n",
        "teens = teens.map(lambda row: f(row))"
      ],
      "execution_count": 0,
      "outputs": []
    },
    {
      "metadata": {
        "id": "CMjlwisIuXz3",
        "colab_type": "code",
        "colab": {},
        "outputId": "dd3ea86e-268d-45d4-9f1b-760ec1e83563"
      },
      "cell_type": "code",
      "source": [
        "##\n",
        "## filtra por edades\n",
        "##\n",
        "teens = teens.filter(lambda row: row[2] >= 13 and row[2] < 20)\n",
        "print(teens.collect()[0:5])\n",
        "teens.count()"
      ],
      "execution_count": 0,
      "outputs": [
        {
          "output_type": "stream",
          "text": [
            "[[2006, 0, 18.982, 7, 0, 0, 0, 0, 0, 0, 0, 0, 0, 0, 0, 0, 0, 0, 0, 1, 0, 0, 0, 0, 0, 0, 0, 0, 0, 0, 0, 0, 0, 0, 0, 0, 0, 0, 0, 0], [2006, 1, 18.801, 0, 0, 1, 0, 0, 0, 0, 0, 0, 0, 0, 1, 0, 0, 0, 0, 0, 0, 0, 2, 2, 1, 0, 0, 0, 6, 4, 0, 1, 0, 0, 0, 0, 0, 0, 0, 0], [2006, 0, 18.335, 69, 0, 1, 0, 0, 0, 0, 0, 0, 0, 0, 0, 0, 0, 0, 0, 0, 2, 0, 1, 0, 0, 0, 0, 0, 0, 0, 0, 0, 0, 0, 0, 0, 0, 1, 0, 0], [2006, 1, 18.875, 0, 0, 0, 0, 0, 0, 0, 0, 0, 0, 0, 1, 0, 0, 0, 0, 0, 0, 0, 0, 1, 0, 0, 0, 0, 0, 0, 0, 0, 0, 0, 0, 0, 0, 0, 0, 0], [2006, None, 18.995, 10, 0, 0, 0, 0, 0, 0, 0, 0, 0, 0, 0, 1, 0, 0, 5, 1, 1, 0, 3, 0, 1, 0, 0, 0, 1, 0, 0, 0, 2, 0, 0, 0, 0, 0, 1, 1]]\n"
          ],
          "name": "stdout"
        },
        {
          "output_type": "execute_result",
          "data": {
            "text/plain": [
              "29563"
            ]
          },
          "metadata": {
            "tags": []
          },
          "execution_count": 18
        }
      ]
    },
    {
      "metadata": {
        "id": "p3yXdDWKuXz6",
        "colab_type": "text"
      },
      "cell_type": "markdown",
      "source": [
        "#### Cálculo de la edad promedio por año de graduación usando SQL"
      ]
    },
    {
      "metadata": {
        "id": "nqhntziluXz8",
        "colab_type": "code",
        "colab": {},
        "outputId": "4b90f803-ebe1-4fb1-ff56-16a67a38ce3f"
      },
      "cell_type": "code",
      "source": [
        "##\n",
        "## Calcula el promedio de edad por año \n",
        "## de graduación usando SQL\n",
        "## \n",
        "sql = \"\"\"\n",
        "SELECT \n",
        "    gradyear, \n",
        "    mean(age) \n",
        "FROM \n",
        "    teens\n",
        "WHERE \n",
        "    age IS NOT NULL\n",
        "GROUP BY \n",
        "    gradyear \n",
        "\"\"\"\n",
        "df_ages = spark.sql(sql)\n",
        "df_ages.show()"
      ],
      "execution_count": 0,
      "outputs": [
        {
          "output_type": "stream",
          "text": [
            "+--------+------------------+\n",
            "|gradyear|          avg(age)|\n",
            "+--------+------------------+\n",
            "|    2007| 18.39145922406969|\n",
            "|    2009|16.878190900098883|\n",
            "|    2006|19.137240919904805|\n",
            "|    2008|17.524112041210614|\n",
            "+--------+------------------+\n",
            "\n"
          ],
          "name": "stdout"
        }
      ]
    },
    {
      "metadata": {
        "id": "5C2P_W8puX0B",
        "colab_type": "code",
        "colab": {},
        "outputId": "950f1548-8c11-4d68-d74e-b9bb9d18b95f"
      },
      "cell_type": "code",
      "source": [
        "##\n",
        "## Convierte el DataFrame en un RDD\n",
        "##\n",
        "df_ages.rdd.collect()"
      ],
      "execution_count": 0,
      "outputs": [
        {
          "output_type": "execute_result",
          "data": {
            "text/plain": [
              "[Row(gradyear=2007, avg(age)=18.39145922406969),\n",
              " Row(gradyear=2009, avg(age)=16.878190900098883),\n",
              " Row(gradyear=2006, avg(age)=19.137240919904805),\n",
              " Row(gradyear=2008, avg(age)=17.524112041210614)]"
            ]
          },
          "metadata": {
            "tags": []
          },
          "execution_count": 20
        }
      ]
    },
    {
      "metadata": {
        "id": "yEpGDnzAuX0G",
        "colab_type": "code",
        "colab": {},
        "outputId": "2443f94e-11ca-4c59-9b50-c8e8d59ea5da"
      },
      "cell_type": "code",
      "source": [
        "## \n",
        "## Se puede acceder a los elementos de forma normal\n",
        "## \n",
        "for row in df_ages.rdd.collect():\n",
        "    print(row[0], row[1])\n",
        "    \n",
        "##\n",
        "## se debe usar el mismo codigo de actualiación\n",
        "## de la sección anterior, ya que SparkQL no\n",
        "## soporta el comando UPDATE\n",
        "##"
      ],
      "execution_count": 0,
      "outputs": [
        {
          "output_type": "stream",
          "text": [
            "2007 18.39145922406969\n",
            "2009 16.878190900098883\n",
            "2006 19.137240919904805\n",
            "2008 17.524112041210614\n"
          ],
          "name": "stdout"
        }
      ]
    },
    {
      "metadata": {
        "id": "lP4jr1NDuX0J",
        "colab_type": "text"
      },
      "cell_type": "markdown",
      "source": [
        "# Entrenamiento del modelo"
      ]
    },
    {
      "metadata": {
        "id": "XhBLgDWeuX0J",
        "colab_type": "code",
        "colab": {}
      },
      "cell_type": "code",
      "source": [
        "##\n",
        "## Selecciona las columnas asociadas a los\n",
        "## intereses de la población analizada\n",
        "##\n",
        "interests = teens.map(lambda row: row[4:])"
      ],
      "execution_count": 0,
      "outputs": []
    },
    {
      "metadata": {
        "id": "cDeCJAAkuX0M",
        "colab_type": "code",
        "colab": {}
      },
      "cell_type": "code",
      "source": [
        "##\n",
        "## Importa la librería KMeans\n",
        "## \n",
        "from pyspark.mllib.clustering import KMeans, KMeansModel"
      ],
      "execution_count": 0,
      "outputs": []
    },
    {
      "metadata": {
        "id": "6yP7qbKBuX0Q",
        "colab_type": "code",
        "colab": {}
      },
      "cell_type": "code",
      "source": [
        "##\n",
        "## Se usa el algoritmo para determinar los centros de 5 grupos\n",
        "##\n",
        "model = KMeans.train(rdd=interests, \n",
        "                     k=5, \n",
        "                     maxIterations=1000, \n",
        "                     initializationMode=\"random\")"
      ],
      "execution_count": 0,
      "outputs": []
    },
    {
      "metadata": {
        "id": "HoR4B48YuX0S",
        "colab_type": "text"
      },
      "cell_type": "markdown",
      "source": [
        "# Evaluación del modelo"
      ]
    },
    {
      "metadata": {
        "id": "kkUSIQEwuX0T",
        "colab_type": "code",
        "colab": {},
        "outputId": "32f2b2fe-a7f7-4988-c414-633808383b7a"
      },
      "cell_type": "code",
      "source": [
        "##\n",
        "## centros de los clusters\n",
        "##\n",
        "model.clusterCenters"
      ],
      "execution_count": 0,
      "outputs": [
        {
          "output_type": "execute_result",
          "data": {
            "text/plain": [
              "[array([0.35953177, 0.37959866, 0.24414716, 0.19230769, 0.19565217,\n",
              "        0.159699  , 0.18979933, 0.08779264, 0.10117057, 0.1270903 ,\n",
              "        0.68394649, 0.1638796 , 0.22993311, 0.22491639, 0.09531773,\n",
              "        4.61789298, 0.34531773, 0.03929766, 0.92976589, 0.33528428,\n",
              "        0.51839465, 0.4506689 , 0.11036789, 0.02759197, 0.61538462,\n",
              "        0.30685619, 0.09782609, 0.46153846, 0.64799331, 0.23494983,\n",
              "        0.10033445, 0.09113712, 0.24414716, 0.13795987, 0.11120401,\n",
              "        0.05518395]),\n",
              " array([0.23190993, 0.21735549, 0.1973088 , 0.14600211, 0.13034922,\n",
              "        0.11336903, 0.09616001, 0.09167468, 0.07478603, 0.11400979,\n",
              "        0.25790654, 0.09698384, 0.11689322, 0.10503913, 0.04906403,\n",
              "        0.20151952, 0.10178956, 0.01487482, 0.30559751, 0.1489313 ,\n",
              "        0.28495583, 0.17996247, 0.07588448, 0.01244908, 0.2357545 ,\n",
              "        0.08279555, 0.05286283, 0.20682869, 0.29973912, 0.1058172 ,\n",
              "        0.05931622, 0.04178681, 0.13304957, 0.08705204, 0.0641677 ,\n",
              "        0.03190077]),\n",
              " array([0.79045093, 0.67020336, 0.556145  , 0.36162688, 0.33421751,\n",
              "        0.2979664 , 0.29885057, 0.37046861, 0.17506631, 0.52431477,\n",
              "        1.01061008, 2.5826702 , 0.47303271, 0.33156499, 1.11494253,\n",
              "        0.87002653, 0.68435013, 0.05747126, 2.10079576, 1.18921309,\n",
              "        0.83554377, 0.39876216, 0.14323607, 0.03625111, 4.06984969,\n",
              "        0.32979664, 1.10521662, 0.81520778, 0.69407604, 0.72590628,\n",
              "        0.26083112, 0.23076923, 0.82670203, 0.38373121, 0.48541114,\n",
              "        0.57029178]),\n",
              " array([0.32508251, 0.25082508, 0.1980198 , 0.18976898, 0.15511551,\n",
              "        0.14686469, 0.12706271, 0.10561056, 0.08415842, 0.18151815,\n",
              "        0.37293729, 0.20792079, 0.15841584, 0.15346535, 0.09240924,\n",
              "        0.35643564, 0.36468647, 0.03135314, 0.91584158, 0.31188119,\n",
              "        6.4009901 , 1.29042904, 1.2359736 , 0.27392739, 0.44719472,\n",
              "        0.15346535, 0.10891089, 0.2640264 , 0.38118812, 0.2359736 ,\n",
              "        0.06105611, 0.04290429, 0.44059406, 0.32508251, 0.14191419,\n",
              "        0.07590759]),\n",
              " array([0.28299519, 0.29240745, 0.26019661, 0.18050617, 0.14557624,\n",
              "        0.18636269, 0.09244928, 0.11252876, 0.1198494 , 0.16565572,\n",
              "        0.36561389, 0.17611378, 0.15059611, 0.15101443, 0.11733947,\n",
              "        0.31290525, 1.09767831, 0.15728927, 2.32859234, 0.41853169,\n",
              "        0.43672872, 0.33674963, 0.12424179, 0.02551767, 0.37084292,\n",
              "        0.13867392, 0.07216064, 0.31290525, 0.4530433 , 0.18029701,\n",
              "        0.06776825, 0.04476051, 0.21752771, 0.14494876, 0.09098515,\n",
              "        0.06860489])]"
            ]
          },
          "metadata": {
            "tags": []
          },
          "execution_count": 25
        }
      ]
    },
    {
      "metadata": {
        "id": "8udnes3euX0W",
        "colab_type": "code",
        "colab": {},
        "outputId": "d0b00742-4599-48ee-f13e-7836371cd2f2"
      },
      "cell_type": "code",
      "source": [
        "##\n",
        "## calcula el indice del cluster al que \n",
        "## pertenece cada ejemplo\n",
        "##\n",
        "clusters = model.predict(interests)\n",
        "clusters.collect()[:20]"
      ],
      "execution_count": 0,
      "outputs": [
        {
          "output_type": "execute_result",
          "data": {
            "text/plain": [
              "[1, 2, 4, 1, 4, 4, 1, 1, 1, 3, 1, 1, 1, 1, 4, 1, 1, 1, 1, 1]"
            ]
          },
          "metadata": {
            "tags": []
          },
          "execution_count": 26
        }
      ]
    },
    {
      "metadata": {
        "id": "96EDp9EBuX0a",
        "colab_type": "code",
        "colab": {},
        "outputId": "3ef11f1b-c20d-4142-af4e-cd0d4e53fa66"
      },
      "cell_type": "code",
      "source": [
        "##\n",
        "## Número de ejemplos en cada cluster\n",
        "##\n",
        "import collections\n",
        "collections.Counter(clusters.collect())"
      ],
      "execution_count": 0,
      "outputs": [
        {
          "output_type": "execute_result",
          "data": {
            "text/plain": [
              "Counter({1: 21849, 2: 1131, 4: 4781, 3: 606, 0: 1196})"
            ]
          },
          "metadata": {
            "tags": []
          },
          "execution_count": 27
        }
      ]
    },
    {
      "metadata": {
        "id": "Bu5zSBZauX0j",
        "colab_type": "text"
      },
      "cell_type": "markdown",
      "source": [
        "# Análisis del modelo"
      ]
    },
    {
      "metadata": {
        "id": "B7TfeTEUuX0j",
        "colab_type": "code",
        "colab": {}
      },
      "cell_type": "code",
      "source": [
        "##\n",
        "## se agrega el cluster a los datos originales\n",
        "##\n",
        "import numpy as np\n",
        "teens.collect()[0:4]\n",
        "teens_aug = teens.map(lambda row: [model.predict(row[4:])] + row)"
      ],
      "execution_count": 0,
      "outputs": []
    },
    {
      "metadata": {
        "id": "fdNXPYI0uX0n",
        "colab_type": "code",
        "colab": {}
      },
      "cell_type": "code",
      "source": [
        "##\n",
        "## Crea un DF para analizar los resultados \n",
        "## mas facilmente\n",
        "##\n",
        "resultDF = teens_aug.toDF(['cluster'] + names)\n",
        "resultDF.createOrReplaceTempView('result')"
      ],
      "execution_count": 0,
      "outputs": []
    },
    {
      "metadata": {
        "id": "3CS67sNXuX0r",
        "colab_type": "code",
        "colab": {},
        "outputId": "bde46c9f-9b50-469d-ea02-8ff02296678c"
      },
      "cell_type": "code",
      "source": [
        "##\n",
        "## clusters a los que pertenecen los primeros cinco patrones\n",
        "##\n",
        "spark.sql('SELECT cluster, gender, age, friends FROM result LIMIT 5').show()"
      ],
      "execution_count": 0,
      "outputs": [
        {
          "output_type": "stream",
          "text": [
            "+-------+------+------+-------+\n",
            "|cluster|gender|   age|friends|\n",
            "+-------+------+------+-------+\n",
            "|      1|     0|18.982|      7|\n",
            "|      2|     1|18.801|      0|\n",
            "|      4|     0|18.335|     69|\n",
            "|      1|     1|18.875|      0|\n",
            "|      4|  null|18.995|     10|\n",
            "+-------+------+------+-------+\n",
            "\n"
          ],
          "name": "stdout"
        }
      ]
    },
    {
      "metadata": {
        "id": "s-KiFZy8uX0u",
        "colab_type": "code",
        "colab": {},
        "outputId": "d65ad0b5-b5c8-4629-d490-e11ff5e11b9c"
      },
      "cell_type": "code",
      "source": [
        "##\n",
        "## Características demográficas de los clusters\n",
        "##\n",
        "sql = \"\"\"\n",
        "SELECT\n",
        "    cluster,\n",
        "    mean(age),\n",
        "    mean(friends)\n",
        "FROM\n",
        "    result\n",
        "GROUP BY\n",
        "    cluster\n",
        "\"\"\"\n",
        "spark.sql(sql).show()"
      ],
      "execution_count": 0,
      "outputs": [
        {
          "output_type": "stream",
          "text": [
            "+-------+------------------+-----------------+\n",
            "|cluster|          avg(age)|     avg(friends)|\n",
            "+-------+------------------+-----------------+\n",
            "|      0| 17.15160721326572|37.59364548494983|\n",
            "|      1|17.395222576583617|29.27406288617328|\n",
            "|      3|17.454890111921852|35.08910891089109|\n",
            "|      2|17.135859726985856|31.32449160035367|\n",
            "|      4|17.346373681232055|32.07759882869693|\n",
            "+-------+------------------+-----------------+\n",
            "\n"
          ],
          "name": "stdout"
        }
      ]
    }
  ]
}