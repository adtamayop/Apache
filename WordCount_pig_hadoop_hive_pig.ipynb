{
  "nbformat": 4,
  "nbformat_minor": 0,
  "metadata": {
    "colab": {
      "name": "SCE-2018.ipynb",
      "version": "0.3.2",
      "provenance": []
    },
    "kernelspec": {
      "display_name": "Python 3",
      "language": "python",
      "name": "python3"
    }
  },
  "cells": [
    {
      "metadata": {
        "id": "1_ad-VUW1_Iw",
        "colab_type": "text"
      },
      "cell_type": "markdown",
      "source": [
        "# Hadoop Streaming"
      ]
    },
    {
      "metadata": {
        "id": "gtC3Rs0A1_Ix",
        "colab_type": "text"
      },
      "cell_type": "markdown",
      "source": [
        "## Datos"
      ]
    },
    {
      "metadata": {
        "id": "VZq9AzU-1_Iy",
        "colab_type": "code",
        "colab": {},
        "outputId": "aefecb0a-1c36-4179-db08-8234adc4b2cd"
      },
      "cell_type": "code",
      "source": [
        "%%writefile input/text0.txt\n",
        "A B C A\n",
        "A D D A\n",
        "A K M C"
      ],
      "execution_count": 0,
      "outputs": [
        {
          "output_type": "stream",
          "text": [
            "Overwriting input/text0.txt\n"
          ],
          "name": "stdout"
        }
      ]
    },
    {
      "metadata": {
        "id": "k0gedZ7M1_I4",
        "colab_type": "code",
        "colab": {},
        "outputId": "9eb843f9-9dc3-4a82-81bc-e36b060fb2bc"
      },
      "cell_type": "code",
      "source": [
        "%%writefile input/text1.txt\n",
        "B A C Y B\n",
        "U O Y Y A\n",
        "A B I T"
      ],
      "execution_count": 0,
      "outputs": [
        {
          "output_type": "stream",
          "text": [
            "Overwriting input/text1.txt\n"
          ],
          "name": "stdout"
        }
      ]
    },
    {
      "metadata": {
        "id": "vxz4Rd1I1_I7",
        "colab_type": "code",
        "colab": {},
        "outputId": "7922b900-e9fd-4228-ec81-b85ba0859365"
      },
      "cell_type": "code",
      "source": [
        "%%writefile input/text2.txt\n",
        "A C D A\n",
        "A K B \n",
        "A N H I D A"
      ],
      "execution_count": 0,
      "outputs": [
        {
          "output_type": "stream",
          "text": [
            "Overwriting input/text2.txt\n"
          ],
          "name": "stdout"
        }
      ]
    },
    {
      "metadata": {
        "slideshow": {
          "slide_type": "slide"
        },
        "id": "3hH8tCYV1_I-",
        "colab_type": "text"
      },
      "cell_type": "markdown",
      "source": [
        "## mapper.R"
      ]
    },
    {
      "metadata": {
        "slideshow": {
          "slide_type": "slide"
        },
        "id": "IUo1GiwT1_I_",
        "colab_type": "code",
        "colab": {},
        "outputId": "ca592f3a-e974-4d3f-b4e4-1219ad2e6d9a"
      },
      "cell_type": "code",
      "source": [
        "%%writefile mapper.R\n",
        "#! /usr/bin/env Rscript\n",
        "\n",
        "input <- file('stdin', 'r')\n",
        "while(TRUE) {\n",
        "    row <- readLines(input, n=1)\n",
        "    if( length(row) == 0 ){\n",
        "        break\n",
        "    }\n",
        "    words <- strsplit(row, \" \")[[1]]\n",
        "    for(word in words){\n",
        "        if(word != '')\n",
        "            write(cat(word,'\\t1',sep=''), \"\")\n",
        "    }\n",
        "}"
      ],
      "execution_count": 0,
      "outputs": [
        {
          "output_type": "stream",
          "text": [
            "Overwriting mapper.R\n"
          ],
          "name": "stdout"
        }
      ]
    },
    {
      "metadata": {
        "slideshow": {
          "slide_type": "slide"
        },
        "id": "zWVRP9QM1_JD",
        "colab_type": "code",
        "colab": {},
        "outputId": "458f22db-2770-4fba-88cd-c331da08908c"
      },
      "cell_type": "code",
      "source": [
        "## El programa anterior se hace ejecutable\n",
        "!chmod +x mapper.R\n",
        "\n",
        "## Verificación\n",
        "!cat ./input/text*.txt | ./mapper.R | head"
      ],
      "execution_count": 0,
      "outputs": [
        {
          "output_type": "stream",
          "text": [
            "A\t1\r\n",
            "B\t1\r\n",
            "C\t1\r\n",
            "A\t1\r\n",
            "A\t1\r\n",
            "D\t1\r\n",
            "D\t1\r\n",
            "A\t1\r\n",
            "A\t1\r\n",
            "K\t1\r\n",
            "Error in cat(x, file = file, sep = c(rep.int(sep, ncolumns - 1), \"\\n\"),  : \r\n",
            "  ignoring SIGPIPE signal\r\n",
            "Calls: write -> cat\r\n",
            "Execution halted\r\n"
          ],
          "name": "stdout"
        }
      ]
    },
    {
      "metadata": {
        "slideshow": {
          "slide_type": "slide"
        },
        "id": "egCUcMAN1_JG",
        "colab_type": "text"
      },
      "cell_type": "markdown",
      "source": [
        "## reducer.R"
      ]
    },
    {
      "metadata": {
        "id": "UNwmDTwt1_JH",
        "colab_type": "code",
        "colab": {},
        "outputId": "b7a57e6c-0584-4377-bdbb-82c0791e3088"
      },
      "cell_type": "code",
      "source": [
        "%%writefile reducer.R\n",
        "#!/usr/bin/env Rscript\n",
        "\n",
        "curkey <- NULL\n",
        "total <- 0\n",
        "input <- file('stdin', 'r')\n",
        "while(TRUE) {\n",
        "    row <- readLines(input, n=1)\n",
        "    if( length(row) == 0 ){\n",
        "        break\n",
        "    }\n",
        "    x <- strsplit(row, \"\\t\")[[1]]\n",
        "    key <- x[1]\n",
        "    value <- strtoi(x[2])\n",
        "    if(!is.null(curkey) && key == curkey){\n",
        "        total <- total + value\n",
        "    }\n",
        "    else{\n",
        "        if( !is.null(curkey) ) {\n",
        "            write(cat(curkey,'\\t', total), \"\")\n",
        "        }\n",
        "        curkey <- key\n",
        "        total <- value\n",
        "    }\n",
        "}\n",
        "write(cat(curkey,'\\t', total), \"\")"
      ],
      "execution_count": 0,
      "outputs": [
        {
          "output_type": "stream",
          "text": [
            "Overwriting reducer.R\n"
          ],
          "name": "stdout"
        }
      ]
    },
    {
      "metadata": {
        "slideshow": {
          "slide_type": "slide"
        },
        "id": "SGPmVaXi1_JL",
        "colab_type": "code",
        "colab": {},
        "outputId": "35f94be0-af5b-43bc-c562-60121ef568cc"
      },
      "cell_type": "code",
      "source": [
        "!chmod +x reducer.R\n",
        "!cat ./input/text*.txt | ./mapper.R | sort | ./reducer.R "
      ],
      "execution_count": 0,
      "outputs": [
        {
          "output_type": "stream",
          "text": [
            "Warning message:\r\n",
            "In readLines(input, n = 1) : incomplete final line found on 'stdin'\r\n",
            "A \t 13\r\n",
            "B \t 5\r\n",
            "C \t 4\r\n",
            "D \t 4\r\n",
            "H \t 1\r\n",
            "I \t 2\r\n",
            "K \t 2\r\n",
            "M \t 1\r\n",
            "N \t 1\r\n",
            "O \t 1\r\n",
            "T \t 1\r\n",
            "U \t 1\r\n",
            "Y \t 3\r\n"
          ],
          "name": "stdout"
        }
      ]
    },
    {
      "metadata": {
        "slideshow": {
          "slide_type": "slide"
        },
        "id": "5ZWPMRMA1_JP",
        "colab_type": "text"
      },
      "cell_type": "markdown",
      "source": [
        "## Ejecución en Hadoop"
      ]
    },
    {
      "metadata": {
        "slideshow": {
          "slide_type": "subslide"
        },
        "id": "SGnkSKsv1_JP",
        "colab_type": "code",
        "colab": {},
        "outputId": "62292a51-7140-4931-d8ff-94e3709d91c3"
      },
      "cell_type": "code",
      "source": [
        "!hadoop fs -mkdir /user\n",
        "!hadoop fs -mkdir /user/jdvelasq\n",
        "!hadoop fs -mkdir /user/jdvelasq/input\n",
        "!hadoop fs -copyFromLocal  input/* /user/jdvelasq/input\n",
        "!hadoop fs -ls /user/jdvelasq/input/*"
      ],
      "execution_count": 0,
      "outputs": [
        {
          "output_type": "stream",
          "text": [
            "-rw-r--r--   1 jdvelasq supergroup         25 2018-11-08 23:36 /user/jdvelasq/input/text0.txt\r\n",
            "-rw-r--r--   1 jdvelasq supergroup         29 2018-11-08 23:36 /user/jdvelasq/input/text1.txt\r\n",
            "-rw-r--r--   1 jdvelasq supergroup         28 2018-11-08 23:36 /user/jdvelasq/input/text2.txt\r\n"
          ],
          "name": "stdout"
        }
      ]
    },
    {
      "metadata": {
        "slideshow": {
          "slide_type": "subslide"
        },
        "id": "4M9lOY3V1_JS",
        "colab_type": "code",
        "colab": {}
      },
      "cell_type": "code",
      "source": [
        "!hadoop jar $HADOOP_HOME/share/hadoop/tools/lib/hadoop-streaming-*.jar \\\n",
        "-input input -output output  -mapper mapper.R -reducer reducer.R"
      ],
      "execution_count": 0,
      "outputs": []
    },
    {
      "metadata": {
        "slideshow": {
          "slide_type": "subslide"
        },
        "id": "z4DDKASQ1_JU",
        "colab_type": "code",
        "colab": {},
        "outputId": "eca88795-853e-4b76-9932-4f1978d3e08c"
      },
      "cell_type": "code",
      "source": [
        "!hadoop fs -ls /user/jdvelasq/output"
      ],
      "execution_count": 0,
      "outputs": [
        {
          "output_type": "stream",
          "text": [
            "Found 2 items\r\n",
            "-rw-r--r--   1 jdvelasq supergroup          0 2018-11-08 23:37 /user/jdvelasq/output/_SUCCESS\r\n",
            "-rw-r--r--   1 jdvelasq supergroup         79 2018-11-08 23:37 /user/jdvelasq/output/part-00000\r\n"
          ],
          "name": "stdout"
        }
      ]
    },
    {
      "metadata": {
        "scrolled": true,
        "slideshow": {
          "slide_type": "subslide"
        },
        "id": "n2FGQlbw1_JZ",
        "colab_type": "code",
        "colab": {},
        "outputId": "999e1423-b89a-4bd5-de08-ba6940d71d1d"
      },
      "cell_type": "code",
      "source": [
        "!hadoop fs -cat /user/jdvelasq/output/part-00000"
      ],
      "execution_count": 0,
      "outputs": [
        {
          "output_type": "stream",
          "text": [
            "A \t 13\r\n",
            "B \t 5\r\n",
            "C \t 4\r\n",
            "D \t 4\r\n",
            "H \t 1\r\n",
            "I \t 2\r\n",
            "K \t 2\r\n",
            "M \t 1\r\n",
            "N \t 1\r\n",
            "O \t 1\r\n",
            "T \t 1\r\n",
            "U \t 1\r\n",
            "Y \t 3\r\n"
          ],
          "name": "stdout"
        }
      ]
    },
    {
      "metadata": {
        "slideshow": {
          "slide_type": "subslide"
        },
        "id": "N5oGRCkz1_Jb",
        "colab_type": "text"
      },
      "cell_type": "markdown",
      "source": [
        "http://localhost:50070/"
      ]
    },
    {
      "metadata": {
        "slideshow": {
          "slide_type": "slide"
        },
        "id": "QKSas-cR1_Je",
        "colab_type": "text"
      },
      "cell_type": "markdown",
      "source": [
        "# WordCount en Pig"
      ]
    },
    {
      "metadata": {
        "slideshow": {
          "slide_type": "subslide"
        },
        "id": "Dx6rdQ1s1_Je",
        "colab_type": "code",
        "colab": {}
      },
      "cell_type": "code",
      "source": [
        "%load_ext bigdata\n",
        "%pig_init"
      ],
      "execution_count": 0,
      "outputs": []
    },
    {
      "metadata": {
        "slideshow": {
          "slide_type": "subslide"
        },
        "id": "_SGYwQeX1_Jj",
        "colab_type": "code",
        "colab": {}
      },
      "cell_type": "code",
      "source": [
        "%%pig\n",
        "lines = LOAD 'input/text*.txt' AS (line:CHARARRAY);\n",
        "\n",
        "-- genera una tabla llamada words con una palabra por registro\n",
        "words = FOREACH lines GENERATE FLATTEN(TOKENIZE(line)) AS word;\n",
        "\n",
        "-- agrupa los registros que tienen la misma palabra\n",
        "grouped = GROUP words BY word;\n",
        "\n",
        "-- genera una variable que cuenta las ocurrencias por cada grupo\n",
        "wordcount = FOREACH grouped GENERATE group, COUNT(words);\n",
        "\n",
        "-- selecciona las primeras 15 palabras\n",
        "s = LIMIT wordcount 15;\n",
        "\n",
        "-- imprime en pantalla las primeras 15 palabras\n",
        "STORE s INTO 'output-pig';"
      ],
      "execution_count": 0,
      "outputs": []
    },
    {
      "metadata": {
        "scrolled": true,
        "slideshow": {
          "slide_type": "subslide"
        },
        "id": "jD3PpQ_h1_Jm",
        "colab_type": "code",
        "colab": {},
        "outputId": "084fe18b-5295-464e-c667-1688c0f7205c"
      },
      "cell_type": "code",
      "source": [
        "!hadoop fs -ls output-pig/"
      ],
      "execution_count": 0,
      "outputs": [
        {
          "output_type": "stream",
          "text": [
            "Found 2 items\r\n",
            "-rw-r--r--   1 jdvelasq supergroup          0 2018-11-09 07:22 output-pig/_SUCCESS\r\n",
            "-rw-r--r--   1 jdvelasq supergroup         53 2018-11-09 07:22 output-pig/part-r-00000\r\n"
          ],
          "name": "stdout"
        }
      ]
    },
    {
      "metadata": {
        "scrolled": false,
        "slideshow": {
          "slide_type": "subslide"
        },
        "id": "HcdFCm4C1_Jp",
        "colab_type": "code",
        "colab": {},
        "outputId": "b053be3a-2c71-4578-947e-1616cc3393ef"
      },
      "cell_type": "code",
      "source": [
        "!hadoop fs -cat /user/jdvelasq/output-pig/part-r-00000"
      ],
      "execution_count": 0,
      "outputs": [
        {
          "output_type": "stream",
          "text": [
            "A\t13\r\n",
            "B\t5\r\n",
            "C\t4\r\n",
            "D\t4\r\n",
            "H\t1\r\n",
            "I\t2\r\n",
            "K\t2\r\n",
            "M\t1\r\n",
            "N\t1\r\n",
            "O\t1\r\n",
            "T\t1\r\n",
            "U\t1\r\n",
            "Y\t3\r\n"
          ],
          "name": "stdout"
        }
      ]
    },
    {
      "metadata": {
        "slideshow": {
          "slide_type": "slide"
        },
        "id": "XhePo8MM1_Jt",
        "colab_type": "text"
      },
      "cell_type": "markdown",
      "source": [
        "# WordCount en Apache Hive"
      ]
    },
    {
      "metadata": {
        "slideshow": {
          "slide_type": "fragment"
        },
        "id": "u2yEorBw1_Jt",
        "colab_type": "code",
        "colab": {},
        "outputId": "56352afc-acca-4144-ce48-7db8dcc5fe6d"
      },
      "cell_type": "code",
      "source": [
        "%hive_init"
      ],
      "execution_count": 0,
      "outputs": [
        {
          "output_type": "stream",
          "text": [
            "Hive initialized!\n"
          ],
          "name": "stdout"
        }
      ]
    },
    {
      "metadata": {
        "slideshow": {
          "slide_type": "fragment"
        },
        "id": "KHpYjha01_Jx",
        "colab_type": "code",
        "colab": {},
        "outputId": "ff90fe5f-fa84-41ea-faeb-b07dd63bbc9c"
      },
      "cell_type": "code",
      "source": [
        "%%hive\n",
        "DROP TABLE IF EXISTS docs;\n",
        "DROP TABLE IF EXISTS word_counts;\n",
        "\n",
        "CREATE TABLE docs (line STRING);\n",
        "\n",
        "LOAD DATA LOCAL INPATH \n",
        "    'input/text*.txt' \n",
        "OVERWRITE INTO TABLE docs;\n",
        "\n",
        "CREATE TABLE word_counts \n",
        "AS\n",
        "    SELECT word, count(1) AS count \n",
        "    FROM\n",
        "        (SELECT explode(split(line, '\\\\s')) AS word FROM docs) w\n",
        "GROUP BY \n",
        "    word\n",
        "ORDER BY \n",
        "    word;\n",
        "\n",
        "SELECT * FROM word_counts LIMIT 10;"
      ],
      "execution_count": 0,
      "outputs": [
        {
          "output_type": "stream",
          "text": [
            "\t7\n",
            "A\t13\n",
            "B\t5\n",
            "C\t4\n",
            "D\t4\n",
            "H\t1\n",
            "I\t2\n",
            "K\t2\n",
            "M\t1\n",
            "N\t1\n"
          ],
          "name": "stdout"
        }
      ]
    },
    {
      "metadata": {
        "slideshow": {
          "slide_type": "slide"
        },
        "id": "9Mbv301X1_J0",
        "colab_type": "code",
        "colab": {},
        "outputId": "0a06af9d-cdc8-42aa-eb27-d63e2c412226"
      },
      "cell_type": "code",
      "source": [
        "%%writefile tbl0.csv\n",
        "1,D,4,2016-06-25,a:e:c:d,bb#10:dd#20:cc#40\n",
        "2,C,4,2015-05-14,a:c,dd#40:bb#20:cc#10\n",
        "3,D,6,2014-12-26,b:d,aa#10:bb#40\n",
        "4,D,5,2016-06-25,a:c:e:b:d,bb#40:dd#20:aa#10:cc#30\n",
        "5,C,7,2016-05-23,d:e:c,cc#10:aa#20\n",
        "6,A,2,2018-06-14,a:d,aa#20\n",
        "7,B,3,2014-12-22,a:e:d,cc#20\n",
        "8,C,6,2015-08-20,d:a:c:e,cc#10:aa#20\n",
        "9,B,3,2017-12-08,b:a:c:e,cc#40:dd#10:aa#30:bb#20\n",
        "10,B,7,2015-07-28,c:d:e:a:b,aa#10:dd#40:cc#30"
      ],
      "execution_count": 0,
      "outputs": [
        {
          "output_type": "stream",
          "text": [
            "Writing tbl0.csv\n"
          ],
          "name": "stdout"
        }
      ]
    },
    {
      "metadata": {
        "scrolled": true,
        "slideshow": {
          "slide_type": "slide"
        },
        "id": "YbPc9Swp1_J3",
        "colab_type": "code",
        "colab": {},
        "outputId": "fc0fca94-fd8f-41ab-8ce4-858bc8ecb4a5"
      },
      "cell_type": "code",
      "source": [
        "%%hive\n",
        "DROP TABLE IF EXISTS tbl0;\n",
        "CREATE TABLE tbl0 (\n",
        "    c1 INT,\n",
        "    c2 STRING,\n",
        "    c3 INT,\n",
        "    c4 DATE,\n",
        "    c5 ARRAY<CHAR(1)>, \n",
        "    c6 MAP<STRING, INT>\n",
        ")\n",
        "ROW FORMAT DELIMITED \n",
        "FIELDS TERMINATED BY ','\n",
        "COLLECTION ITEMS TERMINATED BY ':'\n",
        "MAP KEYS TERMINATED BY '#'\n",
        "LINES TERMINATED BY '\\n';\n",
        "\n",
        "LOAD DATA LOCAL INPATH 'tbl0.csv' INTO TABLE tbl0;\n",
        "\n",
        "SELECT * FROM tbl0;"
      ],
      "execution_count": 0,
      "outputs": [
        {
          "output_type": "stream",
          "text": [
            "1\tD\t4\t2016-06-25\t[\"a\",\"e\",\"c\",\"d\"]\t{\"bb\":10,\"dd\":20,\"cc\":40}\n",
            "2\tC\t4\t2015-05-14\t[\"a\",\"c\"]\t{\"dd\":40,\"bb\":20,\"cc\":10}\n",
            "3\tD\t6\t2014-12-26\t[\"b\",\"d\"]\t{\"aa\":10,\"bb\":40}\n",
            "4\tD\t5\t2016-06-25\t[\"a\",\"c\",\"e\",\"b\",\"d\"]\t{\"bb\":40,\"dd\":20,\"aa\":10,\"cc\":30}\n",
            "5\tC\t7\t2016-05-23\t[\"d\",\"e\",\"c\"]\t{\"cc\":10,\"aa\":20}\n",
            "6\tA\t2\t2018-06-14\t[\"a\",\"d\"]\t{\"aa\":20}\n",
            "7\tB\t3\t2014-12-22\t[\"a\",\"e\",\"d\"]\t{\"cc\":20}\n",
            "8\tC\t6\t2015-08-20\t[\"d\",\"a\",\"c\",\"e\"]\t{\"cc\":10,\"aa\":20}\n",
            "9\tB\t3\t2017-12-08\t[\"b\",\"a\",\"c\",\"e\"]\t{\"cc\":40,\"dd\":10,\"aa\":30,\"bb\":20}\n",
            "10\tB\t7\t2015-07-28\t[\"c\",\"d\",\"e\",\"a\",\"b\"]\t{\"aa\":10,\"dd\":40,\"cc\":30}\n"
          ],
          "name": "stdout"
        }
      ]
    },
    {
      "metadata": {
        "slideshow": {
          "slide_type": "slide"
        },
        "id": "75_rzfqc1_J7",
        "colab_type": "text"
      },
      "cell_type": "markdown",
      "source": [
        "# Spark"
      ]
    },
    {
      "metadata": {
        "id": "nV2-L_VS1_J8",
        "colab_type": "code",
        "colab": {}
      },
      "cell_type": "code",
      "source": [
        "import findspark\n",
        "findspark.init()\n",
        "\n",
        "from pyspark import SparkConf, SparkContext\n",
        "from operator import add\n",
        "\n",
        "APP_NAME = \"My First Spark Application\"\n",
        "\n",
        "def tokenize(text):\n",
        "    return text.split()\n",
        "\n",
        "def main(sc): \n",
        "    text = sc.textFile('input/text*.txt')\n",
        "    words = text.flatMap(tokenize)\n",
        "    wc = words.map(lambda x: (x,1))\n",
        "    counts = wc.reduceByKey(add)\n",
        "    counts.saveAsTextFile(\"output-spark\")\n",
        "\n",
        "if __name__ == \"__main__\":\n",
        "    conf = SparkConf().setAppName(APP_NAME) \n",
        "    conf = conf.setMaster(\"local[*]\")\n",
        "    sc = SparkContext(conf=conf)\n",
        "    main(sc)"
      ],
      "execution_count": 0,
      "outputs": []
    },
    {
      "metadata": {
        "id": "s8FqtjBb1_J_",
        "colab_type": "code",
        "colab": {},
        "outputId": "e4ffb084-0c43-4165-cfd1-b8412e58641c"
      },
      "cell_type": "code",
      "source": [
        "!hadoop fs -ls output-spark"
      ],
      "execution_count": 0,
      "outputs": [
        {
          "output_type": "stream",
          "text": [
            "Found 4 items\r\n",
            "-rw-r--r--   1 jdvelasq supergroup          0 2018-11-09 08:39 output-spark/_SUCCESS\r\n",
            "-rw-r--r--   1 jdvelasq supergroup         45 2018-11-09 08:39 output-spark/part-00000\r\n",
            "-rw-r--r--   1 jdvelasq supergroup         37 2018-11-09 08:39 output-spark/part-00001\r\n",
            "-rw-r--r--   1 jdvelasq supergroup         36 2018-11-09 08:39 output-spark/part-00002\r\n"
          ],
          "name": "stdout"
        }
      ]
    },
    {
      "metadata": {
        "id": "Uiu-xla51_KC",
        "colab_type": "code",
        "colab": {},
        "outputId": "1c2e66b7-47d9-4ae9-bd4b-18aef72dc1ea"
      },
      "cell_type": "code",
      "source": [
        "!hadoop fs -cat /user/jdvelasq/output-spark/part-00000"
      ],
      "execution_count": 0,
      "outputs": [
        {
          "output_type": "stream",
          "text": [
            "('B', 5)\r\n",
            "('C', 4)\r\n",
            "('D', 4)\r\n",
            "('T', 1)\r\n",
            "('N', 1)\r\n"
          ],
          "name": "stdout"
        }
      ]
    },
    {
      "metadata": {
        "id": "VPZIQWeG1_KF",
        "colab_type": "code",
        "colab": {},
        "outputId": "13c02862-7b5c-4205-acb2-8c6784b3493d"
      },
      "cell_type": "code",
      "source": [
        "## en este ejemplo se pasa una función arbitraria a `map`\n",
        "from operator import add\n",
        "rdd = sc.textFile('input/text*.txt')\n",
        "rdd = rdd.map(len)\n",
        "print(rdd.collect())\n",
        "rdd = rdd.reduce(add)\n",
        "rdd"
      ],
      "execution_count": 0,
      "outputs": [
        {
          "output_type": "stream",
          "text": [
            "[7, 7, 7, 1, 9, 9, 7, 1, 7, 6, 11, 1]\n"
          ],
          "name": "stdout"
        },
        {
          "output_type": "execute_result",
          "data": {
            "text/plain": [
              "73"
            ]
          },
          "metadata": {
            "tags": []
          },
          "execution_count": 7
        }
      ]
    },
    {
      "metadata": {
        "id": "TGVwzaDn1_KK",
        "colab_type": "code",
        "colab": {}
      },
      "cell_type": "code",
      "source": [
        "query = \"\"\"\n",
        "SELECT DISTINCT\n",
        "    _C5\n",
        "FROM \n",
        "    csv.`datos.csv`\n",
        "ORDER BY\n",
        "    _c5\n",
        "\"\"\"\n",
        "\n",
        "spark.sql(query).write.save('temp', format=\"csv\")"
      ],
      "execution_count": 0,
      "outputs": []
    },
    {
      "metadata": {
        "id": "uc2olTun1_KM",
        "colab_type": "code",
        "colab": {}
      },
      "cell_type": "code",
      "source": [
        ""
      ],
      "execution_count": 0,
      "outputs": []
    },
    {
      "metadata": {
        "id": "DDdySi1F1_KO",
        "colab_type": "code",
        "colab": {}
      },
      "cell_type": "code",
      "source": [
        ""
      ],
      "execution_count": 0,
      "outputs": []
    },
    {
      "metadata": {
        "id": "fMQEqNdl1_KR",
        "colab_type": "code",
        "colab": {}
      },
      "cell_type": "code",
      "source": [
        ""
      ],
      "execution_count": 0,
      "outputs": []
    },
    {
      "metadata": {
        "id": "6vLV0MLJ1_KS",
        "colab_type": "code",
        "colab": {}
      },
      "cell_type": "code",
      "source": [
        ""
      ],
      "execution_count": 0,
      "outputs": []
    },
    {
      "metadata": {
        "id": "TTLJoANb1_KU",
        "colab_type": "code",
        "colab": {}
      },
      "cell_type": "code",
      "source": [
        ""
      ],
      "execution_count": 0,
      "outputs": []
    },
    {
      "metadata": {
        "id": "GnOvysEo1_KV",
        "colab_type": "text"
      },
      "cell_type": "markdown",
      "source": [
        "----"
      ]
    },
    {
      "metadata": {
        "slideshow": {
          "slide_type": "skip"
        },
        "id": "EGBHBDot1_KV",
        "colab_type": "code",
        "colab": {}
      },
      "cell_type": "code",
      "source": [
        "from IPython.core.display import HTML\n",
        "def css():\n",
        "    style = open(\"custom.css\", \"r\").read()\n",
        "    return HTML(style)\n",
        "css()"
      ],
      "execution_count": 0,
      "outputs": []
    },
    {
      "metadata": {
        "id": "bsIAvk-S1_KY",
        "colab_type": "text"
      },
      "cell_type": "markdown",
      "source": [
        "---"
      ]
    }
  ]
}