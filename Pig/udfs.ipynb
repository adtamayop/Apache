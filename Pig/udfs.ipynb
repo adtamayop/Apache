{
  "nbformat": 4,
  "nbformat_minor": 0,
  "metadata": {
    "colab": {
      "name": "07-udfs.ipynb",
      "version": "0.3.2",
      "provenance": []
    },
    "kernelspec": {
      "display_name": "Python 3",
      "language": "python",
      "name": "python3"
    }
  },
  "cells": [
    {
      "metadata": {
        "id": "Grl5AaRwn_DC",
        "colab_type": "text"
      },
      "cell_type": "markdown",
      "source": [
        "# Funciones de Usuario (udfs)\n",
        "\n",
        "Apache Pig permite la ejecución de funciones escritas en Java, Jython (http://www.jython.org/index.html), JavaScript, Ruby, Groovy y Python. Información detallada de la ejecución de udfs en estos lenguajes puede ser obtenida en https://pig.apache.org/docs/latest/udf.html#python-udfs.\n",
        "\n",
        "\n",
        "Véase http://www.jython.org/index.html. Para su uso, el script de Python debe estar ubicado en el directorio de trabajo. Para poder usar Jython, hay dos opciones; en la primera se debe indicar la ubicación del inteprete en la variable `PIG_CLASSPATH`. En algunos casos es necesario establacer la variable `PYTHONPATH` para que Pig pueda compilar las udfs. Para mayor información revise https://pig.apache.org/docs/latest/udf.html#jython-udfs.\n",
        "\n",
        "(deprecated) En la segunda se puede usar `org.apache.pig.scripting.jython.JythonScriptEngin` como intérprete."
      ]
    },
    {
      "metadata": {
        "id": "-K9HTsGLn_DD",
        "colab_type": "code",
        "colab": {}
      },
      "cell_type": "code",
      "source": [
        "%load_ext bigdata\n",
        "%pig_init"
      ],
      "execution_count": 0,
      "outputs": []
    },
    {
      "metadata": {
        "id": "4_PcYZJPn_DI",
        "colab_type": "code",
        "colab": {},
        "outputId": "05d64bce-fc34-489e-8dbf-ccbf73deced9"
      },
      "cell_type": "code",
      "source": [
        "%%writefile udf.tsv\n",
        "A\tB\t1\n",
        "C\tD\t2\n",
        "E\tF\t3\n",
        "G\tH\t4\n",
        "I\tJ\t5"
      ],
      "execution_count": 0,
      "outputs": [
        {
          "output_type": "stream",
          "text": [
            "Writing udf.tsv\n"
          ],
          "name": "stdout"
        }
      ]
    },
    {
      "metadata": {
        "id": "_pBz6iBrn_DM",
        "colab_type": "code",
        "colab": {},
        "outputId": "3bf4fef7-0410-40bc-d71e-0fee03f46a73"
      },
      "cell_type": "code",
      "source": [
        "%%writefile pigudf.py\n",
        "\n",
        "#from pig_util import outputSchema\n",
        "\n",
        "@outputSchema(\"as:int\")\n",
        "def square(num):\n",
        "    if num == None:\n",
        "        return None\n",
        "    return ((num) * (num))\n",
        "\n",
        "@outputSchema(\"word:chararray\")\n",
        "def concatenar(word1, word2):\n",
        "    return (word1 + word2)"
      ],
      "execution_count": 0,
      "outputs": [
        {
          "output_type": "stream",
          "text": [
            "Writing pigudf.py\n"
          ],
          "name": "stdout"
        }
      ]
    },
    {
      "metadata": {
        "id": "Gl6oAb6xn_DP",
        "colab_type": "code",
        "colab": {},
        "outputId": "7d35632b-d737-4c1c-d324-152885268100"
      },
      "cell_type": "code",
      "source": [
        "%%pig \n",
        "--\n",
        "-- registra las funciones en el script `pigudf.py`.\n",
        "--\n",
        "REGISTER /Users/jdvelasq/jython2.7.0/jython.jar\n",
        "REGISTER 'pigudf.py' using jython as myudf;\n",
        "\n",
        "u = LOAD 'udf.tsv' USING PigStorage() \n",
        "    AS (c1:CHARARRAY, \n",
        "        c2:CHARARRAY, \n",
        "        c3:INT);\n",
        "\n",
        "b = FOREACH u GENERATE myudf.concatenar(c1, c2), myudf.square(c3);\n",
        "DUMP b;"
      ],
      "execution_count": 0,
      "outputs": [
        {
          "output_type": "stream",
          "text": [
            "(AB,1)\n",
            "(CD,4)\n",
            "(EF,9)\n",
            "(GH,16)\n",
            "(IJ,25)\n"
          ],
          "name": "stdout"
        }
      ]
    },
    {
      "metadata": {
        "id": "m1-9oGEen_DU",
        "colab_type": "text"
      },
      "cell_type": "markdown",
      "source": [
        "**Piggy Bank**\n",
        "\n",
        "Son funciones de usuario escritas en Java por la comunidad. "
      ]
    },
    {
      "metadata": {
        "id": "WR02AIqMn_DU",
        "colab_type": "text"
      },
      "cell_type": "markdown",
      "source": [
        "---"
      ]
    },
    {
      "metadata": {
        "id": "nb4XT10Kn_DW",
        "colab_type": "code",
        "colab": {}
      },
      "cell_type": "code",
      "source": [
        "!rm pigudf.py pig_*  udf.tsv"
      ],
      "execution_count": 0,
      "outputs": []
    }
  ]
}