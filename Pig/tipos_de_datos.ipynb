{
  "nbformat": 4,
  "nbformat_minor": 0,
  "metadata": {
    "colab": {
      "name": "04-tipos-de-datos.ipynb",
      "version": "0.3.2",
      "provenance": []
    },
    "kernelspec": {
      "display_name": "Python 3",
      "language": "python",
      "name": "python3"
    }
  },
  "cells": [
    {
      "metadata": {
        "id": "OAjmnUlPms7P",
        "colab_type": "text"
      },
      "cell_type": "markdown",
      "source": [
        "Tipos de datos complejos\n",
        "===\n"
      ]
    },
    {
      "metadata": {
        "id": "c3rEIzhxms7Q",
        "colab_type": "code",
        "colab": {}
      },
      "cell_type": "code",
      "source": [
        "%load_ext bigdata\n",
        "%pig_init"
      ],
      "execution_count": 0,
      "outputs": []
    },
    {
      "metadata": {
        "id": "BKKE_wHSms7T",
        "colab_type": "text"
      },
      "cell_type": "markdown",
      "source": [
        "## Datos simples"
      ]
    },
    {
      "metadata": {
        "id": "2JCGafU4ms7U",
        "colab_type": "text"
      },
      "cell_type": "markdown",
      "source": [
        "Los siguientes son los tipos de datos soportados por Pig:\n",
        "\n",
        "     int      long      float       double      chararray  \n",
        "     boolean  datetime  biginteger  bigdecimal  bytearray\n"
      ]
    },
    {
      "metadata": {
        "id": "XlWC1J-wms7W",
        "colab_type": "text"
      },
      "cell_type": "markdown",
      "source": [
        "## Datos complejos"
      ]
    },
    {
      "metadata": {
        "id": "Q22mu6i8ms7W",
        "colab_type": "text"
      },
      "cell_type": "markdown",
      "source": [
        "Apache Pig trabaja con la siguiente jerarquía de relaciones (http://pig.apache.org/docs/r0.17.0/basic.html#relations):\n",
        "\n",
        "* Una *tuple* es un ser de campos ordenados: (field1, field2, ....).\n",
        "* Una *bag* es un conjunto de tuplas: {(...), (...), ...}\n",
        "* Un *map* es un conjunto de parejas [key#value, ....]\n",
        "\n"
      ]
    },
    {
      "metadata": {
        "id": "V2kGdVp8ms7X",
        "colab_type": "text"
      },
      "cell_type": "markdown",
      "source": [
        "### TUPLE"
      ]
    },
    {
      "metadata": {
        "id": "BaETzuRbms7X",
        "colab_type": "code",
        "colab": {},
        "outputId": "42953f3b-6f1d-40e1-8750-9f073ab76584"
      },
      "cell_type": "code",
      "source": [
        "%%writefile data.tsv\n",
        "A\t10\t(1, 2)\n",
        "B\t20\t(3, 4)\n",
        "C\t30\t(5, 6)\n",
        "D\t40\t(7, 8)"
      ],
      "execution_count": 0,
      "outputs": [
        {
          "output_type": "stream",
          "text": [
            "Writing data.tsv\n"
          ],
          "name": "stdout"
        }
      ]
    },
    {
      "metadata": {
        "id": "Md8ZZzIHms7c",
        "colab_type": "code",
        "colab": {},
        "outputId": "e99bbd82-8c6c-4108-e01c-c471f0d99b87"
      },
      "cell_type": "code",
      "source": [
        "%%pig\n",
        "--\n",
        "-- Los campos del archivo están separados por \n",
        "-- tabuladores.\n",
        "--\n",
        "u = LOAD 'data.tsv'\n",
        "    AS (f1:CHARARRAY, f2:INT, f3:TUPLE(p:INT, q:INT));\n",
        "DUMP u;"
      ],
      "execution_count": 0,
      "outputs": [
        {
          "output_type": "stream",
          "text": [
            "(A,10,(1,2))\n",
            "(B,20,(3,4))\n",
            "(C,30,(5,6))\n",
            "(D,40,(7,8))\n"
          ],
          "name": "stdout"
        }
      ]
    },
    {
      "metadata": {
        "id": "LkmzyStEms7f",
        "colab_type": "code",
        "colab": {},
        "outputId": "3a1c52da-8231-4101-e513-59c4a03a56ae"
      },
      "cell_type": "code",
      "source": [
        "%%pig\n",
        "--\n",
        "-- Los campos de la tupla pueden ser accesados\n",
        "-- por nombre o por posición.\n",
        "--\n",
        "r = FOREACH u GENERATE f3.p, f3.$1 ;   \n",
        "DUMP r;"
      ],
      "execution_count": 0,
      "outputs": [
        {
          "output_type": "stream",
          "text": [
            "(1,2)\n",
            "(3,4)\n",
            "(5,6)\n",
            "(7,8)\n"
          ],
          "name": "stdout"
        }
      ]
    },
    {
      "metadata": {
        "id": "Wkz9ORKums7i",
        "colab_type": "code",
        "colab": {},
        "outputId": "7ccd0ae4-0b3b-42ac-fc7e-9340ea31c7be"
      },
      "cell_type": "code",
      "source": [
        "%%pig\n",
        "--\n",
        "-- Aquí se accesan los campos de la tupla por \n",
        "-- posición ya que no tienen nombre.\n",
        "--\n",
        "u = LOAD 'data.tsv' AS (f1:CHARARRAY, f2:INT, f3:TUPLE(INT, INT));\n",
        "r = FOREACH u GENERATE $2.$0, $2.$1;\n",
        "DUMP r;"
      ],
      "execution_count": 0,
      "outputs": [
        {
          "output_type": "stream",
          "text": [
            "(1,2)\n",
            "(3,4)\n",
            "(5,6)\n",
            "(7,8)\n"
          ],
          "name": "stdout"
        }
      ]
    },
    {
      "metadata": {
        "id": "xb3s1z2gms7l",
        "colab_type": "code",
        "colab": {},
        "outputId": "cb640f87-2966-405a-bd21-6832a4cf3686"
      },
      "cell_type": "code",
      "source": [
        "%%writefile data.tsv\n",
        "A\t(1,  2)\t(3,  4)\n",
        "B\t(5,  6)\t(7,  8)\n",
        "C\t(9, 10)\t(11, 12)"
      ],
      "execution_count": 0,
      "outputs": [
        {
          "output_type": "stream",
          "text": [
            "Overwriting data.tsv\n"
          ],
          "name": "stdout"
        }
      ]
    },
    {
      "metadata": {
        "id": "O9DJ5K1mms7o",
        "colab_type": "code",
        "colab": {}
      },
      "cell_type": "code",
      "source": [
        "%%pig\n",
        "--\n",
        "-- Se seleccionan los campos por nombre\n",
        "--\n",
        "u = LOAD 'data.tsv'\n",
        "    AS (f1: CHARARRAY, \n",
        "        t1: TUPLE(t1a: INT, t1b: INT), \n",
        "        t2: TUPLE(t2a: INT, t2b: INT)); \n",
        "r = FOREACH u GENERATE f1, t2.t2b;"
      ],
      "execution_count": 0,
      "outputs": []
    },
    {
      "metadata": {
        "id": "lugBKQlLms7r",
        "colab_type": "text"
      },
      "cell_type": "markdown",
      "source": [
        "### BAG"
      ]
    },
    {
      "metadata": {
        "id": "JKJao7rxms7s",
        "colab_type": "code",
        "colab": {},
        "outputId": "5786d4af-7c4c-428a-d1e3-2bfe4bfe5ce6"
      },
      "cell_type": "code",
      "source": [
        "%%writefile data.tsv\n",
        "A\t10\t{( 1,  2),( 3,  4)}\n",
        "B\t20\t{( 5,  6),( 7,  8)}\n",
        "C\t30\t{( 9, 10),(11, 12)}\n",
        "D\t40\t{(13, 14),(15, 16)}"
      ],
      "execution_count": 0,
      "outputs": [
        {
          "output_type": "stream",
          "text": [
            "Overwriting data.tsv\n"
          ],
          "name": "stdout"
        }
      ]
    },
    {
      "metadata": {
        "id": "7hF8E_Pqms7u",
        "colab_type": "code",
        "colab": {},
        "outputId": "fdff4693-0a21-4d79-bf53-29de4f109ddc"
      },
      "cell_type": "code",
      "source": [
        "%%pig\n",
        "--\n",
        "-- Se selecciona el `bag` por nombre\n",
        "--\n",
        "u = LOAD 'data.tsv'\n",
        "    AS (f1:CHARARRAY, f2:INT, f3:BAG{t: TUPLE(p:INT, q:INT)});\n",
        "r = FOREACH u GENERATE f3;\n",
        "DUMP r;"
      ],
      "execution_count": 0,
      "outputs": [
        {
          "output_type": "stream",
          "text": [
            "({(1,2),(3,4)})\n",
            "({(5,6),(7,8)})\n",
            "({(9,10),(11,12)})\n",
            "({(13,14),(15,16)})\n"
          ],
          "name": "stdout"
        }
      ]
    },
    {
      "metadata": {
        "id": "TUbn-U-Xms7x",
        "colab_type": "code",
        "colab": {},
        "outputId": "395eb522-3a6c-42b7-b01c-7da04b2037a6"
      },
      "cell_type": "code",
      "source": [
        "%%pig\n",
        "r = FOREACH u GENERATE f3.p;\n",
        "DUMP r;"
      ],
      "execution_count": 0,
      "outputs": [
        {
          "output_type": "stream",
          "text": [
            "({(1),(3)})\n",
            "({(5),(7)})\n",
            "({(9),(11)})\n",
            "({(13),(15)})\n"
          ],
          "name": "stdout"
        }
      ]
    },
    {
      "metadata": {
        "id": "PaWmTwMrms70",
        "colab_type": "text"
      },
      "cell_type": "markdown",
      "source": [
        "### MAP"
      ]
    },
    {
      "metadata": {
        "id": "pByADjqKms71",
        "colab_type": "code",
        "colab": {},
        "outputId": "7f01cf2f-0b35-4af0-e1a6-20da86b298e8"
      },
      "cell_type": "code",
      "source": [
        "%%writefile data.tsv\n",
        "A\t10\t[a#1,b#2]\n",
        "B\t20\t[a#3,c#4]\n",
        "C\t30\t[b#5,c#6]\n",
        "D\t40\t[b#7,c#8]"
      ],
      "execution_count": 0,
      "outputs": [
        {
          "output_type": "stream",
          "text": [
            "Overwriting data.tsv\n"
          ],
          "name": "stdout"
        }
      ]
    },
    {
      "metadata": {
        "id": "Xodcgy4Pms75",
        "colab_type": "code",
        "colab": {},
        "outputId": "b8a31dad-4b6a-461d-822c-a433cb581367"
      },
      "cell_type": "code",
      "source": [
        "%%pig\n",
        "u = LOAD 'data.tsv'\n",
        "    AS (f1:CHARARRAY, f2:INT, f3:MAP[]);\n",
        "r = FOREACH u GENERATE f3#'a', f3#'c';\n",
        "DUMP r"
      ],
      "execution_count": 0,
      "outputs": [
        {
          "output_type": "stream",
          "text": [
            "(1,)\n",
            "(3,4)\n",
            "(,6)\n",
            "(,8)\n"
          ],
          "name": "stdout"
        }
      ]
    },
    {
      "metadata": {
        "id": "-ED_qYpIms7-",
        "colab_type": "text"
      },
      "cell_type": "markdown",
      "source": [
        "## Manipulación de datos complejos: FLATTEN"
      ]
    },
    {
      "metadata": {
        "id": "VkNVTbk2ms7-",
        "colab_type": "code",
        "colab": {},
        "outputId": "ff0e13fe-8b8f-4006-af7b-82eabbb0572c"
      },
      "cell_type": "code",
      "source": [
        "%%writefile data.tsv\n",
        "A\t10\t(1, 2)\n",
        "B\t20\t(3, 4)\n",
        "C\t30\t(5, 6)\n",
        "D\t40\t(7, 8)"
      ],
      "execution_count": 0,
      "outputs": [
        {
          "output_type": "stream",
          "text": [
            "Overwriting data.tsv\n"
          ],
          "name": "stdout"
        }
      ]
    },
    {
      "metadata": {
        "id": "g2PbyolDms8B",
        "colab_type": "code",
        "colab": {},
        "outputId": "49891547-b56a-43c6-8fe7-879f30b91adf"
      },
      "cell_type": "code",
      "source": [
        "%%pig\n",
        "u = LOAD 'data.tsv'\n",
        "    AS (f1:CHARARRAY, f2:INT, f3:TUPLE(p:INT, q:INT));\n",
        "DUMP u;"
      ],
      "execution_count": 0,
      "outputs": [
        {
          "output_type": "stream",
          "text": [
            "(A,10,(1,2))\n",
            "(B,20,(3,4))\n",
            "(C,30,(5,6))\n",
            "(D,40,(7,8))\n"
          ],
          "name": "stdout"
        }
      ]
    },
    {
      "metadata": {
        "scrolled": true,
        "id": "LLGN2dB_ms8E",
        "colab_type": "code",
        "colab": {},
        "outputId": "8222c153-b304-4b6e-b6af-9c956beedd84"
      },
      "cell_type": "code",
      "source": [
        "%%pig\n",
        "r = FOREACH u GENERATE f1, FLATTEN(f3);\n",
        "DUMP r;"
      ],
      "execution_count": 0,
      "outputs": [
        {
          "output_type": "stream",
          "text": [
            "(A,1,2)\n",
            "(B,3,4)\n",
            "(C,5,6)\n",
            "(D,7,8)\n"
          ],
          "name": "stdout"
        }
      ]
    },
    {
      "metadata": {
        "id": "OzcLPygRms8I",
        "colab_type": "code",
        "colab": {},
        "outputId": "934dc5cc-a3e7-4d1d-9456-ddcec6bb31f4"
      },
      "cell_type": "code",
      "source": [
        "%%writefile data.tsv\n",
        "A\t10\t{(1),(2)}\n",
        "B\t20\t{(3),(4)}\n",
        "C\t30\t{(5),(6)}\n",
        "D\t40\t{(7),(8)}"
      ],
      "execution_count": 0,
      "outputs": [
        {
          "output_type": "stream",
          "text": [
            "Overwriting data.tsv\n"
          ],
          "name": "stdout"
        }
      ]
    },
    {
      "metadata": {
        "id": "c1_dWYmxms8K",
        "colab_type": "code",
        "colab": {},
        "outputId": "9646fb3c-83f8-4eb3-fcc7-f00f8f87c8ba"
      },
      "cell_type": "code",
      "source": [
        "%%pig\n",
        "u = LOAD 'data.tsv'\n",
        "    AS (f1:CHARARRAY, f2:INT, f3:BAG{t:(p:INT)});\n",
        "DUMP u;"
      ],
      "execution_count": 0,
      "outputs": [
        {
          "output_type": "stream",
          "text": [
            "(A,10,{(1),(2)})\n",
            "(B,20,{(3),(4)})\n",
            "(C,30,{(5),(6)})\n",
            "(D,40,{(7),(8)})\n"
          ],
          "name": "stdout"
        }
      ]
    },
    {
      "metadata": {
        "id": "G9Dvkyq_ms8N",
        "colab_type": "code",
        "colab": {},
        "outputId": "edffa2f5-e9e3-4ecf-98ff-769e045a137d"
      },
      "cell_type": "code",
      "source": [
        "%%pig\n",
        "r = FOREACH u GENERATE f1, FLATTEN(f3);\n",
        "DUMP r;"
      ],
      "execution_count": 0,
      "outputs": [
        {
          "output_type": "stream",
          "text": [
            "(A,1)\n",
            "(A,2)\n",
            "(B,3)\n",
            "(B,4)\n",
            "(C,5)\n",
            "(C,6)\n",
            "(D,7)\n",
            "(D,8)\n"
          ],
          "name": "stdout"
        }
      ]
    },
    {
      "metadata": {
        "id": "aan2Ol-Jms8Q",
        "colab_type": "code",
        "colab": {},
        "outputId": "b990c4c4-17d8-4537-94a9-ee6fc8d08d7d"
      },
      "cell_type": "code",
      "source": [
        "%%pig\n",
        "r = FOREACH u GENERATE FLATTEN(f3);\n",
        "DUMP r;"
      ],
      "execution_count": 0,
      "outputs": [
        {
          "output_type": "stream",
          "text": [
            "(1)\n",
            "(2)\n",
            "(3)\n",
            "(4)\n",
            "(5)\n",
            "(6)\n",
            "(7)\n",
            "(8)\n"
          ],
          "name": "stdout"
        }
      ]
    },
    {
      "metadata": {
        "id": "W6dKXoxXms8T",
        "colab_type": "code",
        "colab": {},
        "outputId": "ee76f675-ed73-43e2-fb3e-70ef632accd3"
      },
      "cell_type": "code",
      "source": [
        "%%pig\n",
        "--\n",
        "-- se pueden colocar varios comandos dentro de\n",
        "-- un FOREACH\n",
        "--\n",
        "r1 = FOREACH u {\n",
        "        GENERATE FLATTEN(f3);\n",
        "};\n",
        "DUMP r1;"
      ],
      "execution_count": 0,
      "outputs": [
        {
          "output_type": "stream",
          "text": [
            "(1)\n",
            "(2)\n",
            "(3)\n",
            "(4)\n",
            "(5)\n",
            "(6)\n",
            "(7)\n",
            "(8)\n"
          ],
          "name": "stdout"
        }
      ]
    },
    {
      "metadata": {
        "id": "BrcazNpAms8a",
        "colab_type": "code",
        "colab": {},
        "outputId": "431e7ab7-4db7-4cc4-a4ec-1590f802108b"
      },
      "cell_type": "code",
      "source": [
        "%%pig\n",
        "r1 = FOREACH u GENERATE (DOUBLE) $1;\n",
        "DUMP r1;"
      ],
      "execution_count": 0,
      "outputs": [
        {
          "output_type": "stream",
          "text": [
            "(10.0)\n",
            "(20.0)\n",
            "(30.0)\n",
            "(40.0)\n"
          ],
          "name": "stdout"
        }
      ]
    },
    {
      "metadata": {
        "id": "83Bw8Yx6ms8c",
        "colab_type": "text"
      },
      "cell_type": "markdown",
      "source": [
        "---"
      ]
    },
    {
      "metadata": {
        "id": "5d_SZaQQms8c",
        "colab_type": "code",
        "colab": {},
        "outputId": "69fb296a-640d-4f27-a258-3c1253852335"
      },
      "cell_type": "code",
      "source": [
        "!rm attempt_local* pig_* persons.* data.* demo.py jointable.*"
      ],
      "execution_count": 0,
      "outputs": [
        {
          "output_type": "stream",
          "text": [
            "rm: attempt_local*: No such file or directory\n",
            "rm: persons.*: No such file or directory\n",
            "rm: demo.py: No such file or directory\n",
            "rm: jointable.*: No such file or directory\n"
          ],
          "name": "stdout"
        }
      ]
    }
  ]
}