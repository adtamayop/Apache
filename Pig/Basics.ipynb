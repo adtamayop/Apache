{
  "nbformat": 4,
  "nbformat_minor": 0,
  "metadata": {
    "colab": {
      "name": "02-basics.ipynb",
      "version": "0.3.2",
      "provenance": []
    },
    "kernelspec": {
      "display_name": "Python 3",
      "language": "python",
      "name": "python3"
    }
  },
  "cells": [
    {
      "metadata": {
        "id": "ut7rhEsomlYP",
        "colab_type": "text"
      },
      "cell_type": "markdown",
      "source": [
        "Programación Basica\n",
        "===\n"
      ]
    },
    {
      "metadata": {
        "id": "0W4QjtZhmlYQ",
        "colab_type": "code",
        "colab": {}
      },
      "cell_type": "code",
      "source": [
        "%load_ext bigdata\n",
        "%pig_init"
      ],
      "execution_count": 0,
      "outputs": []
    },
    {
      "metadata": {
        "id": "uRKKXkExmlYV",
        "colab_type": "text"
      },
      "cell_type": "markdown",
      "source": [
        "### LOAD\n",
        "\n",
        "El nombre de archivo soporta wilcards; por ejemplo:\n",
        "\n",
        "    x = LOAD 'files/*.txt';\n",
        "    \n",
        "leerá todos los archivos terminados en `.txt`. Por defecto, se espera que los campos en los archivos estén separados por comas."
      ]
    },
    {
      "metadata": {
        "id": "alKKjkyqmlYV",
        "colab_type": "code",
        "colab": {},
        "outputId": "0c37b763-8c93-4eb3-f414-128c6e45136c"
      },
      "cell_type": "code",
      "source": [
        "%%writefile persons.csv\n",
        "1,Vivian,Hamilton,1971-07-08,green,1\n",
        "2,Karen,Holcomb,1974-05-23,green,4\n",
        "3,Cody,Garrett,1973-04-22,orange,1\n",
        "4,Roth,Fry,1975-01-29,black,1\n",
        "5,Zoe,Conway,1974-07-03,blue,2\n",
        "6,Gretchen,Kinney,1974-10-18,viole,1\n",
        "7,Driscoll,Klein,1970-10-05,blue,5\n",
        "8,Karyn,Diaz,1969-02-24,red,1\n",
        "9,Merritt,Guy,1974-10-17,indigo,4\n",
        "10,Kylan,Sexton,1975-02-28,black,4\n",
        "11,Jordan,Estes,1969-12-07,indigo,4\n",
        "12,Hope,Coffey,1973-12-24,green,5\n",
        "13,Vivian,Crane,1970-08-27,gray,5\n",
        "14,Clio,Noel,1972-12-12,red,5\n",
        "15,Hope,Silva,1970-07-01,blue,5\n",
        "16,Ayanna,Jarvis,1974-02-11,orange,5\n",
        "17,Chanda,Boyer,1973-04-01,green,4\n",
        "18,Chadwick,Knight,1973-04-29,yellow,1"
      ],
      "execution_count": 0,
      "outputs": [
        {
          "output_type": "stream",
          "text": [
            "Writing persons.csv\n"
          ],
          "name": "stdout"
        }
      ]
    },
    {
      "metadata": {
        "scrolled": true,
        "id": "rHxbyYOWmlYZ",
        "colab_type": "code",
        "colab": {},
        "outputId": "80f296ad-aea9-48e2-b571-9b1818ea59a6"
      },
      "cell_type": "code",
      "source": [
        "%%pig\n",
        "-- \n",
        "-- Carga el archivo desde el disco duro\n",
        "--\n",
        "u = LOAD 'persons.csv' USING PigStorage(',') \n",
        "    AS (id:INT, \n",
        "        firstname:CHARARRAY, \n",
        "        surname:CHARARRAY, \n",
        "        birtday:CHARARRAY, \n",
        "        color:CHARARRAY, \n",
        "        quantity:INT);\n",
        "DUMP u;"
      ],
      "execution_count": 0,
      "outputs": [
        {
          "output_type": "stream",
          "text": [
            "(1,Vivian,Hamilton,1971-07-08,green,1)\n",
            "(2,Karen,Holcomb,1974-05-23,green,4)\n",
            "(3,Cody,Garrett,1973-04-22,orange,1)\n",
            "(4,Roth,Fry,1975-01-29,black,1)\n",
            "(5,Zoe,Conway,1974-07-03,blue,2)\n",
            "(6,Gretchen,Kinney,1974-10-18,viole,1)\n",
            "(7,Driscoll,Klein,1970-10-05,blue,5)\n",
            "(8,Karyn,Diaz,1969-02-24,red,1)\n",
            "(9,Merritt,Guy,1974-10-17,indigo,4)\n",
            "(10,Kylan,Sexton,1975-02-28,black,4)\n",
            "(11,Jordan,Estes,1969-12-07,indigo,4)\n",
            "(12,Hope,Coffey,1973-12-24,green,5)\n",
            "(13,Vivian,Crane,1970-08-27,gray,5)\n",
            "(14,Clio,Noel,1972-12-12,red,5)\n",
            "(15,Hope,Silva,1970-07-01,blue,5)\n",
            "(16,Ayanna,Jarvis,1974-02-11,orange,5)\n",
            "(17,Chanda,Boyer,1973-04-01,green,4)\n",
            "(18,Chadwick,Knight,1973-04-29,yellow,1)\n"
          ],
          "name": "stdout"
        }
      ]
    },
    {
      "metadata": {
        "id": "NaEW_vpImlYd",
        "colab_type": "text"
      },
      "cell_type": "markdown",
      "source": [
        "### STORE"
      ]
    },
    {
      "metadata": {
        "id": "i5bmDfHNmlYg",
        "colab_type": "code",
        "colab": {}
      },
      "cell_type": "code",
      "source": [
        "!rm -rf output"
      ],
      "execution_count": 0,
      "outputs": []
    },
    {
      "metadata": {
        "id": "Dq2IzRwgmlYi",
        "colab_type": "code",
        "colab": {}
      },
      "cell_type": "code",
      "source": [
        "%%pig\n",
        "STORE u INTO 'output';"
      ],
      "execution_count": 0,
      "outputs": []
    },
    {
      "metadata": {
        "id": "cqiXFudomlYl",
        "colab_type": "code",
        "colab": {},
        "outputId": "74928ef8-b2cc-4a95-cad9-16e0f4d7aa9a"
      },
      "cell_type": "code",
      "source": [
        "!ls output/*"
      ],
      "execution_count": 0,
      "outputs": [
        {
          "output_type": "stream",
          "text": [
            "output/_SUCCESS     output/part-m-00000\n"
          ],
          "name": "stdout"
        }
      ]
    },
    {
      "metadata": {
        "id": "pz3GK7e9mlYp",
        "colab_type": "code",
        "colab": {},
        "outputId": "dcd0eaaf-763d-47bf-a462-7ace8cbc530a"
      },
      "cell_type": "code",
      "source": [
        "!head output/part-m-00000"
      ],
      "execution_count": 0,
      "outputs": [
        {
          "output_type": "stream",
          "text": [
            "1\tVivian\tHamilton\t1971-07-08\tgreen\t1\n",
            "2\tKaren\tHolcomb\t1974-05-23\tgreen\t4\n",
            "3\tCody\tGarrett\t1973-04-22\torange\t1\n",
            "4\tRoth\tFry\t1975-01-29\tblack\t1\n",
            "5\tZoe\tConway\t1974-07-03\tblue\t2\n",
            "6\tGretchen\tKinney\t1974-10-18\tviole\t1\n",
            "7\tDriscoll\tKlein\t1970-10-05\tblue\t5\n",
            "8\tKaryn\tDiaz\t1969-02-24\tred\t1\n",
            "9\tMerritt\tGuy\t1974-10-17\tindigo\t4\n",
            "10\tKylan\tSexton\t1975-02-28\tblack\t4\n"
          ],
          "name": "stdout"
        }
      ]
    },
    {
      "metadata": {
        "id": "RMqBkY_amlYu",
        "colab_type": "code",
        "colab": {}
      },
      "cell_type": "code",
      "source": [
        "!rm -rf output"
      ],
      "execution_count": 0,
      "outputs": []
    },
    {
      "metadata": {
        "id": "NmftDzxwmlYx",
        "colab_type": "code",
        "colab": {}
      },
      "cell_type": "code",
      "source": [
        "%%pig\n",
        "STORE u INTO 'output' USING PigStorage(';');"
      ],
      "execution_count": 0,
      "outputs": []
    },
    {
      "metadata": {
        "id": "OKatkYu9mlY1",
        "colab_type": "code",
        "colab": {},
        "outputId": "6d0d65dc-2e2b-4462-e2e4-9ac8e869a580"
      },
      "cell_type": "code",
      "source": [
        "!ls output/*"
      ],
      "execution_count": 0,
      "outputs": [
        {
          "output_type": "stream",
          "text": [
            "output/_SUCCESS     output/part-m-00000\n"
          ],
          "name": "stdout"
        }
      ]
    },
    {
      "metadata": {
        "id": "xHffud2SmlY5",
        "colab_type": "code",
        "colab": {},
        "outputId": "da1919e7-07fb-41d6-8bcf-8e16e3531aff"
      },
      "cell_type": "code",
      "source": [
        "!head output/part-m-00000"
      ],
      "execution_count": 0,
      "outputs": [
        {
          "output_type": "stream",
          "text": [
            "1;Vivian;Hamilton;1971-07-08;green;1\n",
            "2;Karen;Holcomb;1974-05-23;green;4\n",
            "3;Cody;Garrett;1973-04-22;orange;1\n",
            "4;Roth;Fry;1975-01-29;black;1\n",
            "5;Zoe;Conway;1974-07-03;blue;2\n",
            "6;Gretchen;Kinney;1974-10-18;viole;1\n",
            "7;Driscoll;Klein;1970-10-05;blue;5\n",
            "8;Karyn;Diaz;1969-02-24;red;1\n",
            "9;Merritt;Guy;1974-10-17;indigo;4\n",
            "10;Kylan;Sexton;1975-02-28;black;4\n"
          ],
          "name": "stdout"
        }
      ]
    },
    {
      "metadata": {
        "id": "6PoqGfwOmlY9",
        "colab_type": "code",
        "colab": {}
      },
      "cell_type": "code",
      "source": [
        "!rm -rf output"
      ],
      "execution_count": 0,
      "outputs": []
    },
    {
      "metadata": {
        "id": "kARk6BdimlZD",
        "colab_type": "text"
      },
      "cell_type": "markdown",
      "source": [
        "### FOREACH"
      ]
    },
    {
      "metadata": {
        "id": "G8mDOolTmlZF",
        "colab_type": "code",
        "colab": {},
        "outputId": "e252ef39-b223-4c81-ef81-9868500d2b7e"
      },
      "cell_type": "code",
      "source": [
        "%%pig\n",
        "--\n",
        "-- Los campos del archivo puden ser indicados por nombre \n",
        "-- o por posición iniciando en 0\n",
        "--\n",
        "v = FOREACH u GENERATE firstname, $2, $3..$5;\n",
        "DUMP v;"
      ],
      "execution_count": 0,
      "outputs": [
        {
          "output_type": "stream",
          "text": [
            "(Vivian,Hamilton,1971-07-08,green,1)\n",
            "(Karen,Holcomb,1974-05-23,green,4)\n",
            "(Cody,Garrett,1973-04-22,orange,1)\n",
            "(Roth,Fry,1975-01-29,black,1)\n",
            "(Zoe,Conway,1974-07-03,blue,2)\n",
            "(Gretchen,Kinney,1974-10-18,viole,1)\n",
            "(Driscoll,Klein,1970-10-05,blue,5)\n",
            "(Karyn,Diaz,1969-02-24,red,1)\n",
            "(Merritt,Guy,1974-10-17,indigo,4)\n",
            "(Kylan,Sexton,1975-02-28,black,4)\n",
            "(Jordan,Estes,1969-12-07,indigo,4)\n",
            "(Hope,Coffey,1973-12-24,green,5)\n",
            "(Vivian,Crane,1970-08-27,gray,5)\n",
            "(Clio,Noel,1972-12-12,red,5)\n",
            "(Hope,Silva,1970-07-01,blue,5)\n",
            "(Ayanna,Jarvis,1974-02-11,orange,5)\n",
            "(Chanda,Boyer,1973-04-01,green,4)\n",
            "(Chadwick,Knight,1973-04-29,yellow,1)\n"
          ],
          "name": "stdout"
        }
      ]
    },
    {
      "metadata": {
        "id": "RW5rQn40mlZH",
        "colab_type": "code",
        "colab": {},
        "outputId": "9e0d4167-6cb6-4d8b-a1c1-cb91c8a03162"
      },
      "cell_type": "code",
      "source": [
        "%%pig\n",
        "--\n",
        "-- uso de condicionales \n",
        "--\n",
        "v = FOREACH u GENERATE ($0 > $5 ? 10 : 20) ;\n",
        "DUMP v;"
      ],
      "execution_count": 0,
      "outputs": [
        {
          "output_type": "stream",
          "text": [
            "(20)\n",
            "(20)\n",
            "(10)\n",
            "(10)\n",
            "(10)\n",
            "(10)\n",
            "(10)\n",
            "(10)\n",
            "(10)\n",
            "(10)\n",
            "(10)\n",
            "(10)\n",
            "(10)\n",
            "(10)\n",
            "(10)\n",
            "(10)\n",
            "(10)\n",
            "(10)\n"
          ],
          "name": "stdout"
        }
      ]
    },
    {
      "metadata": {
        "id": "nD8kGkjQmlZL",
        "colab_type": "code",
        "colab": {},
        "outputId": "87a839ef-d631-4829-fc1f-8d8d4790dcb1"
      },
      "cell_type": "code",
      "source": [
        "%%pig\n",
        "y = FOREACH u GENERATE $1, $3;\n",
        "DUMP y;"
      ],
      "execution_count": 0,
      "outputs": [
        {
          "output_type": "stream",
          "text": [
            "(Vivian,1971-07-08)\n",
            "(Karen,1974-05-23)\n",
            "(Cody,1973-04-22)\n",
            "(Roth,1975-01-29)\n",
            "(Zoe,1974-07-03)\n",
            "(Gretchen,1974-10-18)\n",
            "(Driscoll,1970-10-05)\n",
            "(Karyn,1969-02-24)\n",
            "(Merritt,1974-10-17)\n",
            "(Kylan,1975-02-28)\n",
            "(Jordan,1969-12-07)\n",
            "(Hope,1973-12-24)\n",
            "(Vivian,1970-08-27)\n",
            "(Clio,1972-12-12)\n",
            "(Hope,1970-07-01)\n",
            "(Ayanna,1974-02-11)\n",
            "(Chanda,1973-04-01)\n",
            "(Chadwick,1973-04-29)\n"
          ],
          "name": "stdout"
        }
      ]
    },
    {
      "metadata": {
        "id": "OLlc9WzhmlZO",
        "colab_type": "code",
        "colab": {},
        "outputId": "e940a7b4-c84b-447d-fefa-f5264af9eb84"
      },
      "cell_type": "code",
      "source": [
        "%%pig\n",
        "y = FOREACH u GENERATE UPPER($1);\n",
        "DUMP y;"
      ],
      "execution_count": 0,
      "outputs": [
        {
          "output_type": "stream",
          "text": [
            "(VIVIAN)\n",
            "(KAREN)\n",
            "(CODY)\n",
            "(ROTH)\n",
            "(ZOE)\n",
            "(GRETCHEN)\n",
            "(DRISCOLL)\n",
            "(KARYN)\n",
            "(MERRITT)\n",
            "(KYLAN)\n",
            "(JORDAN)\n",
            "(HOPE)\n",
            "(VIVIAN)\n",
            "(CLIO)\n",
            "(HOPE)\n",
            "(AYANNA)\n",
            "(CHANDA)\n",
            "(CHADWICK)\n"
          ],
          "name": "stdout"
        }
      ]
    },
    {
      "metadata": {
        "id": "Dsq973JjmlZU",
        "colab_type": "code",
        "colab": {},
        "outputId": "79de58b6-c281-4edb-acd4-e1ec1486449f"
      },
      "cell_type": "code",
      "source": [
        "%%pig\n",
        "y = FOREACH u GENERATE [$1, $3];\n",
        "DUMP y;"
      ],
      "execution_count": 0,
      "outputs": [
        {
          "output_type": "stream",
          "text": [
            "([Vivian#1971-07-08])\n",
            "([Karen#1974-05-23])\n",
            "([Cody#1973-04-22])\n",
            "([Roth#1975-01-29])\n",
            "([Zoe#1974-07-03])\n",
            "([Gretchen#1974-10-18])\n",
            "([Driscoll#1970-10-05])\n",
            "([Karyn#1969-02-24])\n",
            "([Merritt#1974-10-17])\n",
            "([Kylan#1975-02-28])\n",
            "([Jordan#1969-12-07])\n",
            "([Hope#1973-12-24])\n",
            "([Vivian#1970-08-27])\n",
            "([Clio#1972-12-12])\n",
            "([Hope#1970-07-01])\n",
            "([Ayanna#1974-02-11])\n",
            "([Chanda#1973-04-01])\n",
            "([Chadwick#1973-04-29])\n"
          ],
          "name": "stdout"
        }
      ]
    },
    {
      "metadata": {
        "id": "e0WY5pAAmlZZ",
        "colab_type": "text"
      },
      "cell_type": "markdown",
      "source": [
        "### FILTER"
      ]
    },
    {
      "metadata": {
        "id": "1AZ2vM7FmlZZ",
        "colab_type": "code",
        "colab": {},
        "outputId": "9637d8c5-4dbe-4653-b68d-e77e94f4ede5"
      },
      "cell_type": "code",
      "source": [
        "%%pig\n",
        "y = FILTER u BY $4 MATCHES 'blue';\n",
        "DUMP y;"
      ],
      "execution_count": 0,
      "outputs": [
        {
          "output_type": "stream",
          "text": [
            "(5,Zoe,Conway,1974-07-03,blue,2)\n",
            "(7,Driscoll,Klein,1970-10-05,blue,5)\n",
            "(15,Hope,Silva,1970-07-01,blue,5)\n"
          ],
          "name": "stdout"
        }
      ]
    },
    {
      "metadata": {
        "id": "FuADVVsLmlZc",
        "colab_type": "text"
      },
      "cell_type": "markdown",
      "source": [
        "### GROUP"
      ]
    },
    {
      "metadata": {
        "id": "x6n3OCK-mlZd",
        "colab_type": "code",
        "colab": {},
        "outputId": "f926d4f3-e079-4db6-dfae-4ba88b5c8ce6"
      },
      "cell_type": "code",
      "source": [
        "%%pig\n",
        "y = GROUP u BY $4;\n",
        "DUMP y;"
      ],
      "execution_count": 0,
      "outputs": [
        {
          "output_type": "stream",
          "text": [
            "(red,{(8,Karyn,Diaz,1969-02-24,red,1),(14,Clio,Noel,1972-12-12,red,5)})\n",
            "(blue,{(15,Hope,Silva,1970-07-01,blue,5),(7,Driscoll,Klein,1970-10-05,blue,5),(5,Zoe,Conway,1974-07-03,blue,2)})\n",
            "(gray,{(13,Vivian,Crane,1970-08-27,gray,5)})\n",
            "(black,{(10,Kylan,Sexton,1975-02-28,black,4),(4,Roth,Fry,1975-01-29,black,1)})\n",
            "(green,{(12,Hope,Coffey,1973-12-24,green,5),(2,Karen,Holcomb,1974-05-23,green,4),(17,Chanda,Boyer,1973-04-01,green,4),(1,Vivian,Hamilton,1971-07-08,green,1)})\n",
            "(viole,{(6,Gretchen,Kinney,1974-10-18,viole,1)})\n",
            "(indigo,{(9,Merritt,Guy,1974-10-17,indigo,4),(11,Jordan,Estes,1969-12-07,indigo,4)})\n",
            "(orange,{(3,Cody,Garrett,1973-04-22,orange,1),(16,Ayanna,Jarvis,1974-02-11,orange,5)})\n",
            "(yellow,{(18,Chadwick,Knight,1973-04-29,yellow,1)})\n"
          ],
          "name": "stdout"
        }
      ]
    },
    {
      "metadata": {
        "id": "djYziREmmlZg",
        "colab_type": "code",
        "colab": {},
        "outputId": "982691b2-ee95-494e-ab40-734fd37e100f"
      },
      "cell_type": "code",
      "source": [
        "%%pig\n",
        "z = FOREACH y GENERATE u, COUNT(u);\n",
        "DUMP z;"
      ],
      "execution_count": 0,
      "outputs": [
        {
          "output_type": "stream",
          "text": [
            "({(8,Karyn,Diaz,1969-02-24,red,1),(14,Clio,Noel,1972-12-12,red,5)},2)\n",
            "({(15,Hope,Silva,1970-07-01,blue,5),(7,Driscoll,Klein,1970-10-05,blue,5),(5,Zoe,Conway,1974-07-03,blue,2)},3)\n",
            "({(13,Vivian,Crane,1970-08-27,gray,5)},1)\n",
            "({(10,Kylan,Sexton,1975-02-28,black,4),(4,Roth,Fry,1975-01-29,black,1)},2)\n",
            "({(12,Hope,Coffey,1973-12-24,green,5),(2,Karen,Holcomb,1974-05-23,green,4),(17,Chanda,Boyer,1973-04-01,green,4),(1,Vivian,Hamilton,1971-07-08,green,1)},4)\n",
            "({(6,Gretchen,Kinney,1974-10-18,viole,1)},1)\n",
            "({(9,Merritt,Guy,1974-10-17,indigo,4),(11,Jordan,Estes,1969-12-07,indigo,4)},2)\n",
            "({(3,Cody,Garrett,1973-04-22,orange,1),(16,Ayanna,Jarvis,1974-02-11,orange,5)},2)\n",
            "({(18,Chadwick,Knight,1973-04-29,yellow,1)},1)\n"
          ],
          "name": "stdout"
        }
      ]
    },
    {
      "metadata": {
        "id": "CFKgBvHHmlZi",
        "colab_type": "text"
      },
      "cell_type": "markdown",
      "source": [
        "### DESCRIBE\n"
      ]
    },
    {
      "metadata": {
        "id": "Ou2y0Tb-mlZk",
        "colab_type": "code",
        "colab": {},
        "outputId": "15a2aba5-16c3-4aca-8700-4c35e39ec5bb"
      },
      "cell_type": "code",
      "source": [
        "%%pig\n",
        "DESCRIBE u;"
      ],
      "execution_count": 0,
      "outputs": [
        {
          "output_type": "stream",
          "text": [
            "u: {id: int,firstname: chararray,surname: chararray,birtday: chararray,color: chararray,quantity: int}\n"
          ],
          "name": "stdout"
        }
      ]
    },
    {
      "metadata": {
        "id": "LuljZ317mlZm",
        "colab_type": "text"
      },
      "cell_type": "markdown",
      "source": [
        "### ORDER .. BY .."
      ]
    },
    {
      "metadata": {
        "id": "PiQsevcNmlZn",
        "colab_type": "code",
        "colab": {},
        "outputId": "786f2a45-c8c4-4ad9-939f-7fc368df0416"
      },
      "cell_type": "code",
      "source": [
        "%%pig\n",
        "y = ORDER u BY $4;\n",
        "DUMP y;"
      ],
      "execution_count": 0,
      "outputs": [
        {
          "output_type": "stream",
          "text": [
            "(4,Roth,Fry,1975-01-29,black,1)\n",
            "(10,Kylan,Sexton,1975-02-28,black,4)\n",
            "(5,Zoe,Conway,1974-07-03,blue,2)\n",
            "(7,Driscoll,Klein,1970-10-05,blue,5)\n",
            "(15,Hope,Silva,1970-07-01,blue,5)\n",
            "(13,Vivian,Crane,1970-08-27,gray,5)\n",
            "(2,Karen,Holcomb,1974-05-23,green,4)\n",
            "(12,Hope,Coffey,1973-12-24,green,5)\n",
            "(17,Chanda,Boyer,1973-04-01,green,4)\n",
            "(1,Vivian,Hamilton,1971-07-08,green,1)\n",
            "(9,Merritt,Guy,1974-10-17,indigo,4)\n",
            "(11,Jordan,Estes,1969-12-07,indigo,4)\n",
            "(3,Cody,Garrett,1973-04-22,orange,1)\n",
            "(16,Ayanna,Jarvis,1974-02-11,orange,5)\n",
            "(8,Karyn,Diaz,1969-02-24,red,1)\n",
            "(14,Clio,Noel,1972-12-12,red,5)\n",
            "(6,Gretchen,Kinney,1974-10-18,viole,1)\n",
            "(18,Chadwick,Knight,1973-04-29,yellow,1)\n"
          ],
          "name": "stdout"
        }
      ]
    },
    {
      "metadata": {
        "id": "4wKlZLfUmlZp",
        "colab_type": "text"
      },
      "cell_type": "markdown",
      "source": [
        "### DISCTINT"
      ]
    },
    {
      "metadata": {
        "id": "qbjxPXokmlZr",
        "colab_type": "code",
        "colab": {},
        "outputId": "85a30063-4aa0-4dca-d4a6-4280eac1b529"
      },
      "cell_type": "code",
      "source": [
        "%%pig\n",
        "-- \n",
        "-- opera únicamente sobre registros completos\n",
        "--\n",
        "y = FOREACH u GENERATE $4;\n",
        "z = DISCTINT y;\n",
        "DUMP z;"
      ],
      "execution_count": 0,
      "outputs": [
        {
          "output_type": "stream",
          "text": [
            "2018-10-20 13:45:40,793 ERROR grunt.Grunt: ERROR 1200: <line 20, column 0>  Syntax error, unexpected symbol at or near 'z'\n",
            "Details at logfile: /Volumes/Data/GitHub/Analitica-de-grandes-datos/AGD-03-Pig/pig_1540061128832.log\n",
            "({(8,Karyn,Diaz,1969-02-24,red,1),(14,Clio,Noel,1972-12-12,red,5)},2)\n",
            "({(15,Hope,Silva,1970-07-01,blue,5),(7,Driscoll,Klein,1970-10-05,blue,5),(5,Zoe,Conway,1974-07-03,blue,2)},3)\n",
            "({(13,Vivian,Crane,1970-08-27,gray,5)},1)\n",
            "({(10,Kylan,Sexton,1975-02-28,black,4),(4,Roth,Fry,1975-01-29,black,1)},2)\n",
            "({(12,Hope,Coffey,1973-12-24,green,5),(2,Karen,Holcomb,1974-05-23,green,4),(17,Chanda,Boyer,1973-04-01,green,4),(1,Vivian,Hamilton,1971-07-08,green,1)},4)\n",
            "({(6,Gretchen,Kinney,1974-10-18,viole,1)},1)\n",
            "({(9,Merritt,Guy,1974-10-17,indigo,4),(11,Jordan,Estes,1969-12-07,indigo,4)},2)\n",
            "({(3,Cody,Garrett,1973-04-22,orange,1),(16,Ayanna,Jarvis,1974-02-11,orange,5)},2)\n",
            "({(18,Chadwick,Knight,1973-04-29,yellow,1)},1)\n"
          ],
          "name": "stdout"
        }
      ]
    },
    {
      "metadata": {
        "id": "aU2tV0z_mlZu",
        "colab_type": "text"
      },
      "cell_type": "markdown",
      "source": [
        "### JOIN"
      ]
    },
    {
      "metadata": {
        "id": "fwRRCrZ4mlZu",
        "colab_type": "code",
        "colab": {},
        "outputId": "e6148e12-e6e2-4d26-e5fc-338659ea6068"
      },
      "cell_type": "code",
      "source": [
        "%%writefile jointable.csv\n",
        "1,A\n",
        "2,B\n",
        "3,C\n",
        "24,X\n",
        "25,Y\n",
        "26,Z"
      ],
      "execution_count": 0,
      "outputs": [
        {
          "output_type": "stream",
          "text": [
            "Writing jointable.csv\n"
          ],
          "name": "stdout"
        }
      ]
    },
    {
      "metadata": {
        "id": "vRH8kqUCmlZy",
        "colab_type": "code",
        "colab": {},
        "outputId": "068f3acc-8cd6-4ed9-d760-96aa1b996dfb"
      },
      "cell_type": "code",
      "source": [
        "%%pig\n",
        "w = LOAD 'jointable.csv' USING PigStorage(',') \n",
        "    AS (id:INT, \n",
        "        letter:CHARARRAY);\n",
        "DUMP w;"
      ],
      "execution_count": 0,
      "outputs": [
        {
          "output_type": "stream",
          "text": [
            "(1,A)\n",
            "(2,B)\n",
            "(3,C)\n",
            "(24,X)\n",
            "(25,Y)\n",
            "(26,Z)\n"
          ],
          "name": "stdout"
        }
      ]
    },
    {
      "metadata": {
        "id": "oSlAB2mDmlZ1",
        "colab_type": "code",
        "colab": {},
        "outputId": "0b5a929b-c4f1-4421-e12d-12eba7e899b9"
      },
      "cell_type": "code",
      "source": [
        "%%pig\n",
        "w = JOIN u BY id, w BY id;\n",
        "DUMP w;"
      ],
      "execution_count": 0,
      "outputs": [
        {
          "output_type": "stream",
          "text": [
            "(1,Vivian,Hamilton,1971-07-08,green,1,1,A)\n",
            "(2,Karen,Holcomb,1974-05-23,green,4,2,B)\n",
            "(3,Cody,Garrett,1973-04-22,orange,1,3,C)\n"
          ],
          "name": "stdout"
        }
      ]
    },
    {
      "metadata": {
        "id": "YPXM3DN2mlZ4",
        "colab_type": "code",
        "colab": {}
      },
      "cell_type": "code",
      "source": [
        "!rm jointable.csv"
      ],
      "execution_count": 0,
      "outputs": []
    },
    {
      "metadata": {
        "id": "STpLmM2kmlZ7",
        "colab_type": "text"
      },
      "cell_type": "markdown",
      "source": [
        "### LIMIT"
      ]
    },
    {
      "metadata": {
        "id": "ThSe04TnmlZ8",
        "colab_type": "code",
        "colab": {},
        "outputId": "14d63a07-388b-4568-a059-8027bf9951c9"
      },
      "cell_type": "code",
      "source": [
        "%%pig\n",
        "z = LIMIT u 10;\n",
        "DUMP z;"
      ],
      "execution_count": 0,
      "outputs": [
        {
          "output_type": "stream",
          "text": [
            "(1,Vivian,Hamilton,1971-07-08,green,1)\n",
            "(2,Karen,Holcomb,1974-05-23,green,4)\n",
            "(3,Cody,Garrett,1973-04-22,orange,1)\n",
            "(4,Roth,Fry,1975-01-29,black,1)\n",
            "(5,Zoe,Conway,1974-07-03,blue,2)\n",
            "(6,Gretchen,Kinney,1974-10-18,viole,1)\n",
            "(7,Driscoll,Klein,1970-10-05,blue,5)\n",
            "(8,Karyn,Diaz,1969-02-24,red,1)\n",
            "(9,Merritt,Guy,1974-10-17,indigo,4)\n",
            "(10,Kylan,Sexton,1975-02-28,black,4)\n"
          ],
          "name": "stdout"
        }
      ]
    },
    {
      "metadata": {
        "id": "WMAgZGhImlaD",
        "colab_type": "text"
      },
      "cell_type": "markdown",
      "source": [
        "### SAMPLE"
      ]
    },
    {
      "metadata": {
        "id": "7bQIH42ZmlaE",
        "colab_type": "code",
        "colab": {},
        "outputId": "c92b1051-05e6-4352-d5cb-a75ce86fa4f8"
      },
      "cell_type": "code",
      "source": [
        "%%pig\n",
        "w = SAMPLE u 0.2;\n",
        "DUMP w;"
      ],
      "execution_count": 0,
      "outputs": [
        {
          "output_type": "stream",
          "text": [
            "(1,Vivian,Hamilton,1971-07-08,green,1)\n",
            "(8,Karyn,Diaz,1969-02-24,red,1)\n",
            "(12,Hope,Coffey,1973-12-24,green,5)\n",
            "(16,Ayanna,Jarvis,1974-02-11,orange,5)\n"
          ],
          "name": "stdout"
        }
      ]
    },
    {
      "metadata": {
        "id": "v7svhxBDmlaH",
        "colab_type": "text"
      },
      "cell_type": "markdown",
      "source": [
        "### CASE"
      ]
    },
    {
      "metadata": {
        "id": "-v8-4I-emlaI",
        "colab_type": "code",
        "colab": {},
        "outputId": "9f5da3b5-500b-4a19-f8cf-3bde419f7682"
      },
      "cell_type": "code",
      "source": [
        "%%pig\n",
        "r = FOREACH u GENERATE (\n",
        "  CASE $0\n",
        "    WHEN 1 THEN 10\n",
        "    WHEN 2 THEN 20\n",
        "    ELSE 3\n",
        "  END\n",
        ");\n",
        "DUMP r;"
      ],
      "execution_count": 0,
      "outputs": [
        {
          "output_type": "stream",
          "text": [
            "(10)\n",
            "(20)\n",
            "(3)\n",
            "(3)\n",
            "(3)\n",
            "(3)\n",
            "(3)\n",
            "(3)\n",
            "(3)\n",
            "(3)\n",
            "(3)\n",
            "(3)\n",
            "(3)\n",
            "(3)\n",
            "(3)\n",
            "(3)\n",
            "(3)\n",
            "(3)\n"
          ],
          "name": "stdout"
        }
      ]
    },
    {
      "metadata": {
        "id": "m-XQJ3tEmlaL",
        "colab_type": "text"
      },
      "cell_type": "markdown",
      "source": [
        "---"
      ]
    },
    {
      "metadata": {
        "id": "NIAgQ6G8mlaL",
        "colab_type": "code",
        "colab": {}
      },
      "cell_type": "code",
      "source": [
        "!rm pig_* persons.csv"
      ],
      "execution_count": 0,
      "outputs": []
    }
  ]
}