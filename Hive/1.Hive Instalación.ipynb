{
 "cells": [
  {
   "cell_type": "markdown",
   "metadata": {},
   "source": [
    "# Hive\n",
    "\n",
    "Instalación:\n",
    "\n",
    "[Link de descarga](https://hive.apache.org/downloads.html)\n",
    "\n",
    "1. Descomprimir el software en la carpeta /opt/hadoop y denominamos al directorio hive. Debe quedar /opt/hadoop/hive\n",
    "\n",
    "\n",
    "2. Poner lo siguiente en el .bashrc \n",
    "   \n",
    "       export HIVE_HOME=/opt/hadoop/hive\n",
    "       export PATH=$PATH:$HIVE_HOME/bin:$HIVE_HOME/conf\n",
    "$    \n",
    "\n",
    "3. Accedemos al directorio conf y copiamos los ficheros de templates para convertirlos en xml\n",
    "\n",
    "        cp hive-default.xml.template hive-site.xml\n",
    "        cp hive-env.sh.template hive-env.sh\n",
    "        cp hive-exec-log4j.properties.template hive-execlog4j.properties\n",
    "        cp hive-log4j.properties.template hive-log4j.properties\n",
    "        \n",
    "4. Modificamos el hive.env.sh y configuramos los siguientes parámetros\n",
    "\n",
    "        export HADOOP_HOME=/opt/hadoop\n",
    "        export HIVE_CONF_DIR=/opt/hadoop/hive/conf\n",
    "        \n",
    "5. Creamos dentro de HDFS la estructura de HIVE. Por defecto está apuntando a estos directorios\n",
    "\n",
    "          hdfs dfs –mkdir /tmp\n",
    "          hdfs dfs –mkdir -p /user/hive/warehouse\n",
    "          hdfs dfs -chmod g+w /tmp\n",
    "          hdfs dfs -chmod g+w /user/hive/warehouse\n",
    "        \n",
    "6. Accedemos a hive-site.xml y ponemos estos valores de configuración al principio del fichero\n",
    "\n",
    "            <property>\n",
    "                <name>system:java.io.tmpdir</name>\n",
    "                <value>/tmp/hive/java</value>\n",
    "            </property>\n",
    "            <property>\n",
    "                <name>system:user.name</name>\n",
    "                <value>${user.name}</value>\n",
    "     </property> \n",
    "$\n",
    "7. Creamos un directorio donde guardar la metastore puede ser en /opt/hadoop/hive/bbdd\n",
    "\n",
    "        mkdir bbdd\n",
    "        cd bbdd\n",
    "        \n",
    "8. Creamos la Base de Datos y su configuración\n",
    "\n",
    "        chematool -dbType derby -initSchema\n",
    "        \n",
    "9. Arrancamos el cliente\n",
    "\n",
    "        hive\n",
    "        "
   ]
  },
  {
   "cell_type": "markdown",
   "metadata": {},
   "source": []
  }
 ],
 "metadata": {
  "kernelspec": {
   "display_name": "Python 3",
   "language": "python",
   "name": "python3"
  },
  "language_info": {
   "codemirror_mode": {
    "name": "ipython",
    "version": 3
   },
   "file_extension": ".py",
   "mimetype": "text/x-python",
   "name": "python",
   "nbconvert_exporter": "python",
   "pygments_lexer": "ipython3",
   "version": "3.6.6"
  }
 },
 "nbformat": 4,
 "nbformat_minor": 2
}
