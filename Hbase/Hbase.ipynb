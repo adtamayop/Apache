{
 "cells": [
  {
   "cell_type": "markdown",
   "metadata": {},
   "source": [
    "# HBase\n",
    "\n",
    "HBase es una base de datos orientada a columnas y los datos sin almacenados en tablas, las tablas están ordenadas por *RowId*\n",
    "\n",
    "<img style=\"float: right;\" src=\"image/estructura.png\" alt=\"drawing\" width=\"350\" height=\"20\"/>\n",
    "\n",
    "&nbsp;\n",
    "&nbsp;\n",
    "&nbsp;\n",
    "* Tabla: Collección de filas\n",
    "* Fila: Colección de column families\n",
    "* Column family: Colección de columnas\n",
    "* Columna: Colección de pares clave valor\n",
    "* Celda: Una tupla que especifica exactamente una celda {fila,columna,versión}\n",
    "---\n",
    "&nbsp;\n",
    "&nbsp;\n",
    "&nbsp;\n",
    "<img style=\"float: left;\" src=\"image/arquitectura.png\" alt=\"drawing\" width=\"400\"/>\n",
    "&nbsp;HMaster\n",
    "\n",
    "&nbsp;HRegionserver\n",
    "\n",
    "&nbsp;HRegions\n",
    "\n",
    "&nbsp;Zookeeper\n",
    "\n"
   ]
  },
  {
   "cell_type": "markdown",
   "metadata": {},
   "source": [
    "\n",
    "\n",
    "[Enlace de descarga de Hbase](https://hbase.apache.org/downloads.html)\n",
    "\n",
    "**Intalación Standalone:**\n",
    "\n",
    "1. Descargar y descomprimir en el directorio correspondiente\n",
    "2. Editar el archivo **hbase-site.xml** ubicado en la carpeta conf colocando en la configuración:\n",
    "\n",
    "        <configuration>\n",
    "            <property>\n",
    "                <name>hbase.rootdir</name>\n",
    "                <value>file:///opt/hadoop/habase/data/hbase</value>\n",
    "              </property>\n",
    "              <property>\n",
    "                <name>hbase.zookeeper.property.dataDir</name>\n",
    "                <value>/opt/hadoop/hbase/data/zookeeper</value>\n",
    "              </property>\n",
    "              <property>\n",
    "                <name>hbase.unsafe.stream.capability.enforce</name>\n",
    "                <value>false</value>\n",
    "              </property>\n",
    "        </configuration>\n",
    "\n",
    "3. iniciamos hbase, ubicandonos en el directorio bin dentro de hbase y ejecutando el archivo **start-hbase.sh**"
   ]
  },
  {
   "cell_type": "markdown",
   "metadata": {},
   "source": [
    "Para comprobar que está funcionando bien, me voy al directorio bin y ejecuto:\n",
    "         \n",
    "    ./hbase shell \n",
    " \n",
    "y me debería de aparecer un consola de linea de comandos, como por ejm:\n",
    "\n",
    "     hbase(main):001:0> "
   ]
  },
  {
   "cell_type": "markdown",
   "metadata": {},
   "source": [
    "La segunda opción es ir al navegador y entrar en el enlace http://localhost:16010 que es el puerto del WebGUI que es el puerto de la interfaz gráfica, donde podré ver un resumen de todo lo que tengo en Hbase"
   ]
  },
  {
   "cell_type": "markdown",
   "metadata": {},
   "source": [
    "En nuestro archivo bashrc añadiremos la siguiente variable:\n",
    "    \n",
    "    EXPORT HBASE_HOME=/opt/hadoop/hbase\n",
    "    EXPORT PATH=$PATH:$HBASE_HOME/bin\n",
    "\n",
    "y para cargar las nuevas variables de entorno:\n",
    "    \n",
    "    . ./.bashrc"
   ]
  },
  {
   "cell_type": "markdown",
   "metadata": {},
   "source": [
    "[Guía adicional de instalación](https://www.guru99.com/hbase-installation-guide.html)"
   ]
  },
  {
   "cell_type": "markdown",
   "metadata": {},
   "source": [
    "___"
   ]
  },
  {
   "cell_type": "markdown",
   "metadata": {},
   "source": [
    "### **Conceptos básicos de HBase**\n",
    "\n",
    "Una tabla es un concepto similar a la de las bases de datos tradicionales, pero cambia su implementación, cada tabla debe de tener una clave primaria o **row key**, esto permite ordenar las filas según ese Row key\n",
    "\n",
    "Las columnas de una tabla deben de pertenecer a una familia (\"Column Family\") y además se pueden crear en cualquier momento al insertar datos, por tanto una Column Family es una colección de columnas y esta es veriable.\n",
    "\n",
    "* Las column family se crean cuando se define la tabla\n",
    "* Cada columna de una *Column Family* va prefijada por esa familia es decir:\n",
    "\n",
    "        persona:nombre,persona:direccion\n",
    "        factura:codigo,factura:precio\n",
    "\n",
    "* Una familia puede tener un número indeterminado de columnas y añadirse en cualquier momento\n",
    "* Todas las columnas de una familia se ordenan y se almacenan juntas\n",
    "* Dentro de una fila, una celda vacía no ocupa espacio, ya que no se llega a crear nada, por eso se le denomina \"sparse\"\n"
   ]
  },
  {
   "cell_type": "markdown",
   "metadata": {},
   "source": [
    "#### Operaciones básicas:\n",
    "\n",
    "* Get:  Recuperar una fila\n",
    "* Scan: Recuperar varias filas\n",
    "* Put: Insertar datos\n",
    "* Delete: Borrar datos"
   ]
  },
  {
   "cell_type": "markdown",
   "metadata": {},
   "source": [
    "#### HBase Shell\n",
    "\n",
    "Luego de haber configurado correctamente nuestras variables de entorno podemos escribir en consola **hbase shell** \n",
    "\n",
    "status: cuantos servidores tenemos, y sus caracteristicas\n",
    "list: nos permite ver las tablas que tenemos\n",
    "version: podemos ver la versión de hbase\n",
    "describe: me muestra descripcion de la tabla \n",
    "\n",
    "*el comando table_help nos proporcionará una pequeña guía para ejecutar comandos*\n",
    "\n",
    "Los argumentos deben de ir entre comillas simples, por ejm: **create 't1','cf1'**\n",
    "Entonces esto me creó la tabla t1 junto con una column family llamada cf1\n",
    "  "
   ]
  },
  {
   "cell_type": "markdown",
   "metadata": {},
   "source": [
    "### Creación de tablas e inserción de datos\n",
    "\n",
    "#### Tables Managements commands\n",
    "+ Create\n",
    "+ List\n",
    "+ Describe\n",
    "+ Disable\n",
    "+ Disable_all\n",
    "+ Enable\n",
    "+ Enable_all\n",
    "+ Drop\n",
    "+ Drop_all\n",
    "+ Show_filters\n",
    "+ Alter\n",
    "+ Alter_status\n",
    "\n",
    "**Create**: \n",
    "\n",
    "    create <tablename>, <columnfamilyname>\n",
    "\n",
    "Tabla empleados con dos column family\n",
    "\n",
    "       create 'empleados','personal','trabajo'\n",
    "       \n",
    "**List**: Muestra las tablas presentes en la base de datos\n",
    "\n",
    "**Describe**: Describe la tabla, dando información sobre las column families, filtros asociados entre otros\n",
    "\n",
    "\n",
    "\n",
    "    \n",
    "    describe <table name>\n",
    "       \n",
    "#### Tables Managements commands\n",
    "\n",
    "* Count\n",
    "+ Put\n",
    "+ Get\n",
    "+ Delete\n",
    "+ Delete all\n",
    "+ Truncate\n",
    "- Scan\n",
    "\n",
    "**Put**: El insert en hbase es put       \n",
    "\n",
    "       put <'tablename'>,<'rowname'>,<'columnvalue'>,<'value'>\n",
    "       \n",
    "                tabla rowkey family  columna valor\n",
    "                  |    |        |       |       |\n",
    "       put 'empleados','1','personal:nombre','Sergio'\n",
    "       \n",
    "**Get**:\n",
    "\n",
    "         get <'tablename'>, <'rowname'>, {< Additional parameters>}\n",
    "\n",
    "En parametros adicionales puede ir TIMERANGE, TIMESTAMP, VERSIONS and FILTERS.\n",
    "\n",
    "Ejm:\n",
    "          \n",
    "    get 'tabla', 'r1'    \n",
    "    get 'tabla', 'r1', {COLUMN => ['c1', 'c2', 'c3']}\n",
    "    \n",
    "    \n",
    "**Delete**:\n",
    "    \n",
    "    delete <'tablename'>,<'row name'>,<'column name'>\n",
    "    \n",
    "**Scan**:\n",
    "\n",
    "    scan <'tablename'>, {Optional parameters}\n",
    "    \n",
    "Optional parameters: TIMERANGE, FILTER, TIMESTAMP, LIMIT, MAXLENGTH, COLUMNS, CACHE, STARTROW and STOPROW."
   ]
  },
  {
   "cell_type": "markdown",
   "metadata": {},
   "source": [
    "puedo verificar el resultado así: **scan 'empleados'**\n",
    "\n",
    "Puedo ingresar valores a la misma fila por ejm:\n",
    "\n",
    "    put 'empleados','1','trabajo:cargo','Jefe'\n",
    "    \n",
    "Otro ejm : \n",
    "    \n",
    "    scan 'guru99', {COLUMNS => ['c1', 'c2'], LIMIT => 10, STARTROW => 'xyz'}\n",
    "    \n",
    "Si quisieramos ver una determinada columna:\n",
    "\n",
    "    scan 'empleados',{COLUMNS=>'personal:nombre'}"
   ]
  }
 ],
 "metadata": {
  "kernelspec": {
   "display_name": "Python 3",
   "language": "python",
   "name": "python3"
  },
  "language_info": {
   "codemirror_mode": {
    "name": "ipython",
    "version": 3
   },
   "file_extension": ".py",
   "mimetype": "text/x-python",
   "name": "python",
   "nbconvert_exporter": "python",
   "pygments_lexer": "ipython3",
   "version": "3.6.6"
  }
 },
 "nbformat": 4,
 "nbformat_minor": 2
}
